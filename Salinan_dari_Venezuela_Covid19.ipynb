{
  "nbformat": 4,
  "nbformat_minor": 0,
  "metadata": {
    "colab": {
      "name": "Salinan dari Venezuela Covid19.ipynb",
      "provenance": [],
      "collapsed_sections": [
        "UvMUQ_GWD9vr",
        "VR_hjl7omaoZ",
        "OfinZLaFmeRG",
        "4OaV0o0RmYOD",
        "KA3Pf5V6omTk",
        "3A3V1Kf_NA1D",
        "Lbr5TGKwTQzh",
        "-nmmoBhMr9lp",
        "QLAoUDj1_jWh",
        "4A9dMyeCAh6X",
        "Ph3Svz8q6Pbp",
        "4ffTEJtiOKrE",
        "JIwvf_O9pPK8",
        "Pc0BH8Ow9BDF",
        "g6xJuwhsRZyF",
        "u2pTe5yssYU1",
        "ZbGa05c6R4xz",
        "h-uXEjr1R4x4",
        "KEd0Hq4mSlV_",
        "afl8LopFSrA1",
        "pBDMI-otSrA2",
        "G7ql8DleUH4g",
        "btNqnunQV7WK",
        "pV8cbOqWXJ3g",
        "97Ie8GChXpJJ",
        "hyr6BP28XuD2",
        "8TVs77T55tJH",
        "bi9K1jflYL_m",
        "7EDV401taY5E",
        "SihCHxzPfPEa",
        "IjamRPtagdjk",
        "Y6Me0pJSk-fq",
        "gZqHstZBlpMH",
        "dIRYo6E73cj_",
        "y6YDho5m4sD6",
        "PTGRZjGoty06",
        "v2rr8Go3w26A"
      ]
    },
    "kernelspec": {
      "name": "python3",
      "display_name": "Python 3"
    },
    "language_info": {
      "name": "python"
    }
  },
  "cells": [
    {
      "cell_type": "markdown",
      "metadata": {
        "id": "MW00qCRvDq9K"
      },
      "source": [
        "# Data preparation"
      ]
    },
    {
      "cell_type": "code",
      "metadata": {
        "id": "V-XbBr19DGxV"
      },
      "source": [
        "import pandas as pd\n",
        "import plotly.express as px\n",
        "import seaborn as sns\n",
        "import plotly.graph_objects as go\n",
        "import plotly.io as pio"
      ],
      "execution_count": null,
      "outputs": []
    },
    {
      "cell_type": "code",
      "metadata": {
        "id": "3i0iqv19DKWR"
      },
      "source": [
        "import google.colab as gc"
      ],
      "execution_count": null,
      "outputs": []
    },
    {
      "cell_type": "code",
      "metadata": {
        "colab": {
          "base_uri": "https://localhost:8080/"
        },
        "id": "c9hKlS-7DM4m",
        "outputId": "c7e6ac46-1140-4ed7-9905-f80b3750a679"
      },
      "source": [
        "gc.drive.mount('/content/drive', force_remount=True)"
      ],
      "execution_count": null,
      "outputs": [
        {
          "output_type": "stream",
          "text": [
            "Mounted at /content/drive\n"
          ],
          "name": "stdout"
        }
      ]
    },
    {
      "cell_type": "code",
      "metadata": {
        "colab": {
          "base_uri": "https://localhost:8080/",
          "height": 932
        },
        "id": "VoxqahkGDazp",
        "outputId": "b765b3f0-b2d5-480b-adeb-720136244bad"
      },
      "source": [
        "%cd '/content/drive/MyDrive/Solo learn'"
      ],
      "execution_count": null,
      "outputs": [
        {
          "output_type": "stream",
          "text": [
            "ERROR:root:Internal Python error in the inspect module.\n",
            "Below is the traceback from this internal error.\n",
            "\n"
          ],
          "name": "stderr"
        },
        {
          "output_type": "stream",
          "text": [
            "Traceback (most recent call last):\n",
            "  File \"/usr/local/lib/python3.7/dist-packages/IPython/core/interactiveshell.py\", line 2882, in run_code\n",
            "    exec(code_obj, self.user_global_ns, self.user_ns)\n",
            "  File \"<ipython-input-251-c23b6f70befe>\", line 1, in <module>\n",
            "    get_ipython().magic(\"cd '/content/drive/MyDrive/Solo learn'\")\n",
            "  File \"/usr/local/lib/python3.7/dist-packages/IPython/core/interactiveshell.py\", line 2160, in magic\n",
            "    return self.run_line_magic(magic_name, magic_arg_s)\n",
            "  File \"/usr/local/lib/python3.7/dist-packages/IPython/core/interactiveshell.py\", line 2081, in run_line_magic\n",
            "    result = fn(*args,**kwargs)\n",
            "  File \"<decorator-gen-84>\", line 2, in cd\n",
            "  File \"/usr/local/lib/python3.7/dist-packages/IPython/core/magic.py\", line 188, in <lambda>\n",
            "    call = lambda f, *a, **k: f(*a, **k)\n",
            "  File \"/usr/local/lib/python3.7/dist-packages/IPython/core/magics/osm.py\", line 288, in cd\n",
            "    oldcwd = py3compat.getcwd()\n",
            "OSError: [Errno 107] Transport endpoint is not connected\n",
            "\n",
            "During handling of the above exception, another exception occurred:\n",
            "\n",
            "Traceback (most recent call last):\n",
            "  File \"/usr/local/lib/python3.7/dist-packages/IPython/core/interactiveshell.py\", line 1823, in showtraceback\n",
            "    stb = value._render_traceback_()\n",
            "AttributeError: 'OSError' object has no attribute '_render_traceback_'\n",
            "\n",
            "During handling of the above exception, another exception occurred:\n",
            "\n",
            "Traceback (most recent call last):\n",
            "  File \"/usr/local/lib/python3.7/dist-packages/IPython/core/ultratb.py\", line 1132, in get_records\n",
            "    return _fixed_getinnerframes(etb, number_of_lines_of_context, tb_offset)\n",
            "  File \"/usr/local/lib/python3.7/dist-packages/IPython/core/ultratb.py\", line 313, in wrapped\n",
            "    return f(*args, **kwargs)\n",
            "  File \"/usr/local/lib/python3.7/dist-packages/IPython/core/ultratb.py\", line 358, in _fixed_getinnerframes\n",
            "    records = fix_frame_records_filenames(inspect.getinnerframes(etb, context))\n",
            "  File \"/usr/lib/python3.7/inspect.py\", line 1502, in getinnerframes\n",
            "    frameinfo = (tb.tb_frame,) + getframeinfo(tb, context)\n",
            "  File \"/usr/lib/python3.7/inspect.py\", line 1460, in getframeinfo\n",
            "    filename = getsourcefile(frame) or getfile(frame)\n",
            "  File \"/usr/lib/python3.7/inspect.py\", line 696, in getsourcefile\n",
            "    if getattr(getmodule(object, filename), '__loader__', None) is not None:\n",
            "  File \"/usr/lib/python3.7/inspect.py\", line 725, in getmodule\n",
            "    file = getabsfile(object, _filename)\n",
            "  File \"/usr/lib/python3.7/inspect.py\", line 709, in getabsfile\n",
            "    return os.path.normcase(os.path.abspath(_filename))\n",
            "  File \"/usr/lib/python3.7/posixpath.py\", line 383, in abspath\n",
            "    cwd = os.getcwd()\n",
            "OSError: [Errno 107] Transport endpoint is not connected\n"
          ],
          "name": "stdout"
        },
        {
          "output_type": "error",
          "ename": "OSError",
          "evalue": "ignored",
          "traceback": [
            "\u001b[0;31m---------------------------------------------------------------------------\u001b[0m"
          ]
        }
      ]
    },
    {
      "cell_type": "code",
      "metadata": {
        "id": "-MnBUz_FDo-R"
      },
      "source": [
        "!ls"
      ],
      "execution_count": null,
      "outputs": []
    },
    {
      "cell_type": "markdown",
      "metadata": {
        "id": "UvMUQ_GWD9vr"
      },
      "source": [
        "# Reading data"
      ]
    },
    {
      "cell_type": "code",
      "metadata": {
        "id": "l2TVvDYlD-sG"
      },
      "source": [
        "df = pd.read_csv('open_one_time_covid_education_impact.csv')\n",
        "df.head(10)"
      ],
      "execution_count": null,
      "outputs": []
    },
    {
      "cell_type": "code",
      "metadata": {
        "id": "0H3qjlxTElnO"
      },
      "source": [
        "print(df.shape)"
      ],
      "execution_count": null,
      "outputs": []
    },
    {
      "cell_type": "code",
      "metadata": {
        "id": "A4FIwx4REmhe"
      },
      "source": [
        "df.info()"
      ],
      "execution_count": null,
      "outputs": []
    },
    {
      "cell_type": "code",
      "metadata": {
        "id": "n1pN1WfuEPY3"
      },
      "source": [
        "df['submission_date'].unique()"
      ],
      "execution_count": null,
      "outputs": []
    },
    {
      "cell_type": "markdown",
      "metadata": {
        "id": "VR_hjl7omaoZ"
      },
      "source": [
        "# data now"
      ]
    },
    {
      "cell_type": "code",
      "metadata": {
        "id": "ytlWJl8cMofO"
      },
      "source": [
        "df.head(5)"
      ],
      "execution_count": null,
      "outputs": []
    },
    {
      "cell_type": "code",
      "metadata": {
        "id": "x6SrhpKtlm0A"
      },
      "source": [
        "df['age'].unique()"
      ],
      "execution_count": null,
      "outputs": []
    },
    {
      "cell_type": "code",
      "metadata": {
        "id": "NupqyRC8lpyX"
      },
      "source": [
        "df['age'].value_counts()"
      ],
      "execution_count": null,
      "outputs": []
    },
    {
      "cell_type": "code",
      "metadata": {
        "id": "PgKu1Qo6mEmV"
      },
      "source": [
        "df['gender'].unique()"
      ],
      "execution_count": null,
      "outputs": []
    },
    {
      "cell_type": "code",
      "metadata": {
        "id": "PF9F8mi6pHAI"
      },
      "source": [
        "df['gender'].value_counts()"
      ],
      "execution_count": null,
      "outputs": []
    },
    {
      "cell_type": "code",
      "metadata": {
        "id": "kDrgpzMTAu5q"
      },
      "source": [
        "df['submission_state'].value_counts()"
      ],
      "execution_count": null,
      "outputs": []
    },
    {
      "cell_type": "code",
      "metadata": {
        "id": "_3ArorWftG5C"
      },
      "source": [
        "df['geography'].unique()"
      ],
      "execution_count": null,
      "outputs": []
    },
    {
      "cell_type": "code",
      "metadata": {
        "id": "-1j4CctqtaRt"
      },
      "source": [
        "df['financial_situation'].unique()"
      ],
      "execution_count": null,
      "outputs": []
    },
    {
      "cell_type": "code",
      "metadata": {
        "id": "vNmshvQAtdRE"
      },
      "source": [
        "df['education'].unique()"
      ],
      "execution_count": null,
      "outputs": []
    },
    {
      "cell_type": "code",
      "metadata": {
        "id": "oEGNj9z-MSyA"
      },
      "source": [
        "df['education'].value_counts()"
      ],
      "execution_count": null,
      "outputs": []
    },
    {
      "cell_type": "markdown",
      "metadata": {
        "id": "1ui_Q3eQQaDU"
      },
      "source": [
        "'No formal education', 'Some primary education', 'Primary school completed',\n",
        "                                    'Secondary/high school', 'Some secondary school / high school', 'Secondary school/ high school completed',\n",
        "                                    'Technical school',  'Some technical education (e.g polytechnic school)', 'Technical school diploma or degree completed',\n",
        "                                     'College or university', 'Some university or college', 'University or college degree completed',\n",
        "                                    'Post graduate', 'Post-graduate education'"
      ]
    },
    {
      "cell_type": "code",
      "metadata": {
        "id": "Q5DPiZ6StiY8"
      },
      "source": [
        "df['employment_status'].unique()"
      ],
      "execution_count": null,
      "outputs": []
    },
    {
      "cell_type": "markdown",
      "metadata": {
        "id": "OfinZLaFmeRG"
      },
      "source": [
        "# check miss value"
      ]
    },
    {
      "cell_type": "code",
      "metadata": {
        "id": "S7TwwOCfmVYu"
      },
      "source": [
        "df[df.isnull().any(axis=1)]"
      ],
      "execution_count": null,
      "outputs": []
    },
    {
      "cell_type": "code",
      "metadata": {
        "id": "bnKnggG6mgpn"
      },
      "source": [
        "missing_values = ['na','--','n/a', 'Not Available']\n",
        "df[df.isin(missing_values).any(axis=1)]"
      ],
      "execution_count": null,
      "outputs": []
    },
    {
      "cell_type": "code",
      "metadata": {
        "id": "yHbELfnLmqYx"
      },
      "source": [
        "# handle missing data - replace values when read data\n",
        "missing_values = ['na','--','n/a', 'nan', 'Not Available']\n",
        "df_replace_missing = pd.read_csv('open_one_time_covid_education_impact.csv',na_values=missing_values)\n",
        "df_replace_missing"
      ],
      "execution_count": null,
      "outputs": []
    },
    {
      "cell_type": "code",
      "metadata": {
        "id": "Ll-nFuhwnbpj"
      },
      "source": [
        "missing_values = ['na','--','n/a', 'nan', 'Not Available']\n",
        "df_replace_missing[df_replace_missing.isin(missing_values).any(axis=1)]"
      ],
      "execution_count": null,
      "outputs": []
    },
    {
      "cell_type": "code",
      "metadata": {
        "id": "-WfOaq44n02J"
      },
      "source": [
        "df = df_replace_missing.copy()\n",
        "df.head()"
      ],
      "execution_count": null,
      "outputs": []
    },
    {
      "cell_type": "code",
      "metadata": {
        "id": "g1IbgINmn6Bv"
      },
      "source": [
        "missing_values = ['na','--','n/a', 'nan', 'Not Available']\n",
        "df[df.isin(missing_values).any(axis=1)]"
      ],
      "execution_count": null,
      "outputs": []
    },
    {
      "cell_type": "markdown",
      "metadata": {
        "id": "4OaV0o0RmYOD"
      },
      "source": [
        "# change columns name"
      ]
    },
    {
      "cell_type": "code",
      "metadata": {
        "id": "PgSa25-TEJFg"
      },
      "source": [
        "df.columns"
      ],
      "execution_count": null,
      "outputs": []
    },
    {
      "cell_type": "code",
      "metadata": {
        "id": "5GLdHzLcHvFC"
      },
      "source": [
        "# rename column name\n",
        "df = df.rename(columns={'submission_date':'Date', 'geography':'region', 'financial_situation':'finance', 'employment_status':'employment', 'submission_state':'state',\n",
        "                        'are_there_children_0_to_2_yrs_out_of_educational_system':'0_2enrolled_out',\n",
        "                        'were_children_3_to_17_yrs_enrolled_and_did_not_return_to_school':'3_17enrolled_out',\n",
        "                        'are_there_children_who_stopped_enrolling_in_primary_education':'CS_primary',\n",
        "                        'are_there_children_who_stopped_enrolling_in_secondary_education':'CS_secondary',\n",
        "                        'are_children_attending_face_to_face_classes':'C_F2F',\n",
        "                        'can_children_observe_deterioration_of_basic_services_of_school':'deter',\n",
        "                        'do_children_3_and_17_yrs_receive_regular_school_meals':'3_17meals',\n",
        "                        'are_there_teachers_at_scheduled_class_hours':'t_scheduled',\n",
        "                        'are_children_3_to_17_yrs_dealing_with_irregular_school_activity':'3_17irregular',\n",
        "                        'are_children_being_teached_by_unqualified_people':'c_unquald',\n",
        "                        'did_teachers_leave_the_educational_system':'t_leave',\n",
        "                        'do_school_and_the_teachers_have_internet_connection':'st_internet',\n",
        "                        'do_children_have_internet_connection':'c_internet',\n",
        "                        'do_children_3_to_17_yrs_miss_virtual_class_due_to_lack_of_electricity':'3_17missvc',\n",
        "                        'does_home_shows_severe_deficit_of_electricity':'deficit_electricity',\n",
        "                        'does_home_shows_severe_deficit_of_internet':'deficit_internet',\n",
        "                        'do_children_3_to_17_yrs_miss_class_or_in_lower_grade': '3_17misslg',\n",
        "                        'are_children_promoted_with_a_modality_different_from_formal_evaluation':'c_promoted',\n",
        "                        'submission_id':'id'})\n",
        "df.columns"
      ],
      "execution_count": null,
      "outputs": []
    },
    {
      "cell_type": "code",
      "metadata": {
        "id": "pHQsH2QsoidX"
      },
      "source": [
        "missing_values = ['na','--','n/a', 'nan', 'Not Available']\n",
        "df[df.isin(missing_values).any(axis=1)]"
      ],
      "execution_count": null,
      "outputs": []
    },
    {
      "cell_type": "markdown",
      "metadata": {
        "id": "KA3Pf5V6omTk"
      },
      "source": [
        "# so now the data has clean from miss value.\n",
        "1 = yes, 0 = no\n",
        "\n"
      ]
    },
    {
      "cell_type": "code",
      "metadata": {
        "id": "RX9Rks9PorpF"
      },
      "source": [
        "df.head(3)"
      ],
      "execution_count": null,
      "outputs": []
    },
    {
      "cell_type": "code",
      "metadata": {
        "id": "ORYlf61XTx_Y"
      },
      "source": [
        "print(df.shape)"
      ],
      "execution_count": null,
      "outputs": []
    },
    {
      "cell_type": "code",
      "metadata": {
        "id": "8g56lqvSVHbU"
      },
      "source": [
        "df['age'].value_counts()"
      ],
      "execution_count": null,
      "outputs": []
    },
    {
      "cell_type": "markdown",
      "metadata": {
        "id": "3A3V1Kf_NA1D"
      },
      "source": [
        "# Overview"
      ]
    },
    {
      "cell_type": "code",
      "metadata": {
        "id": "FQlOOwXyRa3c"
      },
      "source": [
        "values = df['region'].value_counts()\n",
        "labels = df['region'].value_counts().index\n",
        "\n",
        "fig = px.pie(df, names=labels, values=values)\n",
        "fig.update_layout(template='seaborn', hoverlabel=dict(font_size=20), title='Region Distribution')\n",
        "fig.update_traces(textposition='inside', textinfo='percent+label+value')\n",
        "fig.show()"
      ],
      "execution_count": null,
      "outputs": []
    },
    {
      "cell_type": "code",
      "metadata": {
        "id": "mX-1TJGyM_Qv"
      },
      "source": [
        "fig = px.bar(\n",
        "        df,\n",
        "        orientation=\"h\",\n",
        "        title=\"Education distribution\",\n",
        "        x = df['education'].value_counts(),\n",
        "        y = df['education'].value_counts().index,\n",
        "        color_continuous_scale=[\"#2D6198\", \"#969696\", \"#737373\", \"#888889\",],\n",
        "        template='seaborn'\n",
        "        )\n",
        "fig.update_layout(barmode='stack', yaxis={'categoryorder':'total ascending'})\n",
        "\n",
        "fig.show()"
      ],
      "execution_count": null,
      "outputs": []
    },
    {
      "cell_type": "code",
      "metadata": {
        "id": "GhMnRq3v3Vuv"
      },
      "source": [
        "colors = ['lightslategray',] * 5\n",
        "\n",
        "fig = px.bar(\n",
        "        df,\n",
        "        orientation=\"h\",\n",
        "        title=\"Finance\",\n",
        "        x = df['finance'].value_counts(),\n",
        "        y = df['finance'].value_counts().index,\n",
        "        template='plotly_white'\n",
        "        )\n",
        "fig.update_layout(barmode='stack', yaxis={'categoryorder':'total ascending'})\n",
        "fig.update_traces(marker_color='green', marker_line_color='#111c2d',\n",
        "                  marker_line_width=1.5, opacity=0.6)\n",
        "fig.show()"
      ],
      "execution_count": null,
      "outputs": []
    },
    {
      "cell_type": "code",
      "metadata": {
        "id": "MzrzQqNhJhvR"
      },
      "source": [
        "df['finance'].value_counts()"
      ],
      "execution_count": null,
      "outputs": []
    },
    {
      "cell_type": "code",
      "metadata": {
        "id": "-yGLZPn8Oj__"
      },
      "source": [
        "fig = px.bar(\n",
        "        df,\n",
        "        orientation=\"h\",\n",
        "        title=\"Age\",\n",
        "        x = df['age'].value_counts(),\n",
        "        y = df['age'].value_counts().index,\n",
        "        )\n",
        "fig.update_layout(barmode='stack', yaxis={'categoryorder':'total ascending'})\n",
        "\n",
        "fig.show()"
      ],
      "execution_count": null,
      "outputs": []
    },
    {
      "cell_type": "code",
      "metadata": {
        "id": "0jOHOJz0JqLa"
      },
      "source": [
        "df['age'].value_counts()"
      ],
      "execution_count": null,
      "outputs": []
    },
    {
      "cell_type": "code",
      "metadata": {
        "id": "LCjC68-C6fer"
      },
      "source": [
        "fig = px.bar(\n",
        "        df,\n",
        "        title=\"Submission State\",\n",
        "        x = df['state'].value_counts().index,\n",
        "        y = df['state'].value_counts(),\n",
        "        template='ggplot2'\n",
        "        )\n",
        "\n",
        "fig.update_layout(barmode='group', xaxis_tickangle=-45)\n",
        "\n",
        "fig.show()"
      ],
      "execution_count": null,
      "outputs": []
    },
    {
      "cell_type": "code",
      "metadata": {
        "id": "LR2zKtwWJsCF"
      },
      "source": [
        "df['state'].value_counts()"
      ],
      "execution_count": null,
      "outputs": []
    },
    {
      "cell_type": "code",
      "metadata": {
        "id": "FPnbObV4EDLa"
      },
      "source": [
        "values = df['deficit_internet'].value_counts()\n",
        "labels = df['deficit_internet'].value_counts().index\n",
        "\n",
        "fig = px.pie(df, names=labels, values=values)\n",
        "fig.update_layout(template='seaborn',\n",
        "                  hoverlabel=dict(font_size=20),\n",
        "                  title='Internet deficit at home?'\n",
        "                  )\n",
        "fig.update_traces(textposition='inside', textinfo='percent+value')\n",
        "fig.show()"
      ],
      "execution_count": null,
      "outputs": []
    },
    {
      "cell_type": "code",
      "metadata": {
        "id": "BMQ5MCc7ETzA"
      },
      "source": [
        "values = df['deficit_electricity'].value_counts()\n",
        "labels = df['deficit_electricity'].value_counts().index\n",
        "\n",
        "fig = px.pie(df, names=labels, values=values)\n",
        "fig.update_layout(template='seaborn',\n",
        "                  hoverlabel=dict(font_size=20),\n",
        "                  title='Electric deficit at home?'\n",
        "                  )\n",
        "fig.update_traces(textposition='inside', textinfo='percent+value')\n",
        "fig.show()"
      ],
      "execution_count": null,
      "outputs": []
    },
    {
      "cell_type": "code",
      "metadata": {
        "id": "vh3ShSY4EioB"
      },
      "source": [
        "values = df['0_2enrolled_out'].value_counts()\n",
        "labels = df['0_2enrolled_out'].value_counts().index\n",
        "\n",
        "fig = px.pie(df, names=labels, values=values)\n",
        "fig.update_layout(template='seaborn',\n",
        "                  hoverlabel=dict(font_size=20),\n",
        "                  title='Are there children 0-2 years out of educational system?'\n",
        "                  )\n",
        "fig.update_traces(textposition='inside', textinfo='percent+value')\n",
        "fig.show()"
      ],
      "execution_count": null,
      "outputs": []
    },
    {
      "cell_type": "code",
      "metadata": {
        "id": "rKzqKI3_FTGJ"
      },
      "source": [
        "values = df['3_17enrolled_out'].value_counts()\n",
        "labels = df['3_17enrolled_out'].value_counts().index\n",
        "\n",
        "fig = px.pie(df, names=labels, values=values)\n",
        "fig.update_layout(template='seaborn',\n",
        "                  hoverlabel=dict(font_size=20),\n",
        "                  title=\"Were children 3-17 years enrolled and didn't returned to school?\"\n",
        "                  )\n",
        "fig.update_traces(textposition='inside', textinfo='percent+value')\n",
        "fig.show()"
      ],
      "execution_count": null,
      "outputs": []
    },
    {
      "cell_type": "code",
      "metadata": {
        "id": "-xotWO3rFf0X"
      },
      "source": [
        "values = df['deter'].value_counts()\n",
        "labels = df['deter'].value_counts().index\n",
        "\n",
        "fig = px.pie(df, names=labels, values=values)\n",
        "fig.update_layout(template='seaborn',\n",
        "                  hoverlabel=dict(font_size=20),\n",
        "                  title='Do children observe deteration of basic school service?'\n",
        "                  )\n",
        "fig.update_traces(textposition='inside', textinfo='percent+value')\n",
        "fig.show()"
      ],
      "execution_count": null,
      "outputs": []
    },
    {
      "cell_type": "code",
      "metadata": {
        "id": "D3qAEEM2F5hP"
      },
      "source": [
        "values = df['st_internet'].value_counts()\n",
        "labels = df['st_internet'].value_counts().index\n",
        "\n",
        "fig = px.pie(df, names=labels, values=values)\n",
        "fig.update_layout(template='seaborn',\n",
        "                  hoverlabel=dict(font_size=20),\n",
        "                  title='Does school and teacher has internet?'\n",
        "                  )\n",
        "fig.update_traces(textposition='inside', textinfo='percent+value')\n",
        "fig.show()"
      ],
      "execution_count": null,
      "outputs": []
    },
    {
      "cell_type": "code",
      "metadata": {
        "id": "VQaBwIR0GHXY"
      },
      "source": [
        "values = df['3_17missvc'].value_counts()\n",
        "labels = df['3_17missvc'].value_counts().index\n",
        "\n",
        "fig = px.pie(df, names=labels, values=values)\n",
        "fig.update_layout(template='seaborn',\n",
        "                  hoverlabel=dict(font_size=20),\n",
        "                  title='Does children 3-17 years old miss class because lack of electricity?'\n",
        "                  )\n",
        "fig.update_traces(textposition='inside', textinfo='percent+value')\n",
        "fig.show()"
      ],
      "execution_count": null,
      "outputs": []
    },
    {
      "cell_type": "markdown",
      "metadata": {
        "id": "-y5JvSpxT8at"
      },
      "source": [
        "# We'll classified the data into several age categories, 16-25 (teen) and 26+ (adults)\n",
        "Only 4433 data records because 3 other are Not Available"
      ]
    },
    {
      "cell_type": "markdown",
      "metadata": {
        "id": "Lbr5TGKwTQzh"
      },
      "source": [
        "# Age centric data\n"
      ]
    },
    {
      "cell_type": "markdown",
      "metadata": {
        "id": "-nmmoBhMr9lp"
      },
      "source": [
        "## Age 0-25 (teen)"
      ]
    },
    {
      "cell_type": "code",
      "metadata": {
        "id": "bJWPdEWMr-lT"
      },
      "source": [
        "df1625 = df[df['age'].isin(['Under 16', '16 to 25 years old'])]"
      ],
      "execution_count": null,
      "outputs": []
    },
    {
      "cell_type": "code",
      "metadata": {
        "id": "gcWEmnjDsWSO"
      },
      "source": [
        "print(df1625.shape)"
      ],
      "execution_count": null,
      "outputs": []
    },
    {
      "cell_type": "code",
      "metadata": {
        "id": "oQnpNiFzsd_g"
      },
      "source": [
        "values = df1625['region'].value_counts()\n",
        "labels = df1625['region'].value_counts().index\n",
        "\n",
        "fig = px.pie(df1625, names=labels, values=values, color_discrete_sequence=['green', 'pink'])\n",
        "fig.update_layout(title='Region Distribution in Age 16-25', template='plotly_dark', hoverlabel=dict(font_size=20))\n",
        "fig.update_traces(textposition='inside', textinfo='percent+label+value')\n",
        "fig.show()"
      ],
      "execution_count": null,
      "outputs": []
    },
    {
      "cell_type": "code",
      "metadata": {
        "id": "KjBohPehO6AC"
      },
      "source": [
        "values = df1625['education'].value_counts()\n",
        "labels = df1625['education'].value_counts().index\n",
        "\n",
        "fig = px.bar(\n",
        "        df1625,\n",
        "        orientation=\"h\",\n",
        "        title=\"Education in 16-25\",\n",
        "        x = df1625['education'].value_counts(),\n",
        "        y = df1625['education'].value_counts().index,\n",
        "        color_continuous_scale=[\"#bdbdbd\", \"#969696\", \"#737373\", \"#525252\",],\n",
        "        )\n",
        "fig.update_layout(barmode='stack', yaxis={'categoryorder':'total ascending'})\n",
        "\n",
        "fig.show()"
      ],
      "execution_count": null,
      "outputs": []
    },
    {
      "cell_type": "code",
      "metadata": {
        "id": "mje168oyOb1i"
      },
      "source": [
        "fig = px.bar(df1625, orientation=\"h\", title=\"Employment in Age 16-25\",\n",
        "             x=df1625['employment'].value_counts(),\n",
        "             y=df1625['employment'].value_counts().index,\n",
        "             )\n",
        "fig.update_layout(barmode='stack', yaxis={'categoryorder':'total ascending'})\n",
        "\n",
        "fig.show()"
      ],
      "execution_count": null,
      "outputs": []
    },
    {
      "cell_type": "code",
      "metadata": {
        "id": "sl3N5fqpIaCH"
      },
      "source": [
        "fig = px.bar(\n",
        "        df1625,\n",
        "        orientation=\"h\",\n",
        "        title=\"Financial condition in 16-25\",\n",
        "        x = df1625['finance'].value_counts(),\n",
        "        y = df1625['finance'].value_counts().index,\n",
        "        )\n",
        "fig.update_layout(barmode='stack', yaxis={'categoryorder':'total ascending'})\n",
        "\n",
        "fig.show()"
      ],
      "execution_count": null,
      "outputs": []
    },
    {
      "cell_type": "markdown",
      "metadata": {
        "id": "QLAoUDj1_jWh"
      },
      "source": [
        "## Age 26++ (adults)"
      ]
    },
    {
      "cell_type": "code",
      "metadata": {
        "id": "HpIb65ek_knA"
      },
      "source": [
        "df26 = df[df['age'].isin(['26 to 35 years old', '36 to 45 years old', 'Over 45 years old'])]"
      ],
      "execution_count": null,
      "outputs": []
    },
    {
      "cell_type": "code",
      "metadata": {
        "id": "OufUjuuw_pi4"
      },
      "source": [
        "print(df26.shape)"
      ],
      "execution_count": null,
      "outputs": []
    },
    {
      "cell_type": "code",
      "metadata": {
        "id": "eoYNpqzjGpi_"
      },
      "source": [
        "fig = px.bar(\n",
        "        df26,\n",
        "        orientation=\"h\",\n",
        "        title=\"Education in 26+\",\n",
        "        x = df26['education'].value_counts(),\n",
        "        y = df26['education'].value_counts().index,\n",
        "        )\n",
        "fig.update_layout(barmode='stack', yaxis={'categoryorder':'total ascending'})\n",
        "\n",
        "fig.show()"
      ],
      "execution_count": null,
      "outputs": []
    },
    {
      "cell_type": "code",
      "metadata": {
        "id": "3oYh3BDuG4-X"
      },
      "source": [
        "fig = px.bar(df26, \n",
        "             orientation=\"h\", \n",
        "             title=\"Employment in Age 26+\",\n",
        "             x=df26['employment'].value_counts(),\n",
        "             y=df26['employment'].value_counts().index,\n",
        "             )\n",
        "fig.update_layout(barmode='stack', yaxis={'categoryorder':'total ascending'})\n",
        "\n",
        "fig.show()"
      ],
      "execution_count": null,
      "outputs": []
    },
    {
      "cell_type": "code",
      "metadata": {
        "id": "-f7FlSUOIUdR"
      },
      "source": [
        "fig = px.bar(\n",
        "        df26,\n",
        "        orientation=\"h\",\n",
        "        title=\"Financial condition in 26+\",\n",
        "        x = df26['finance'].value_counts(),\n",
        "        y = df26['finance'].value_counts().index,\n",
        "        )\n",
        "fig.update_layout(barmode='stack', yaxis={'categoryorder':'total ascending'})\n",
        "\n",
        "fig.show()"
      ],
      "execution_count": null,
      "outputs": []
    },
    {
      "cell_type": "markdown",
      "metadata": {
        "id": "XU5AS2vaNFVT"
      },
      "source": [
        "# Per state view"
      ]
    },
    {
      "cell_type": "markdown",
      "metadata": {
        "id": "x7xdYVCL0qM7"
      },
      "source": [
        "We'll look  into several columns ONLY.\n",
        "Internet,\n",
        "electricity,\n",
        "3-17 enrolled and didn't back to school,\n",
        "deteriation of school service,\n",
        "school/teacher internet availability,\n",
        "3-17 years miss class bcs lack of electricity,"
      ]
    },
    {
      "cell_type": "code",
      "metadata": {
        "id": "V7kIxa5E1_9O"
      },
      "source": [
        "dfnew = df[['id', 'Date', 'gender', 'age', 'region', 'finance', 'education',\n",
        "       'employment', 'state', 'deficit_internet', 'deficit_electricity', '3_17enrolled_out', 'deter', 'st_internet',\n",
        "       '3_17missvc']]\n",
        "dfnew.columns"
      ],
      "execution_count": null,
      "outputs": []
    },
    {
      "cell_type": "markdown",
      "metadata": {
        "id": "4A9dMyeCAh6X"
      },
      "source": [
        "## State Miranda"
      ]
    },
    {
      "cell_type": "code",
      "metadata": {
        "id": "NxsH9mmVAjAG"
      },
      "source": [
        "dfmiranda = dfnew[dfnew['state'].isin(['Miranda'])]\n",
        "print(dfmiranda.shape)"
      ],
      "execution_count": null,
      "outputs": []
    },
    {
      "cell_type": "code",
      "metadata": {
        "id": "nyVd94trqB2Z"
      },
      "source": [
        "values = df['state'].value_counts()\n",
        "labels = df['state'].value_counts().index\n",
        "\n",
        "# pull is given as a fraction of the pie radius\n",
        "fig = go.Figure(data=[go.Pie(labels=labels, values=values, pull=[0.2, 0, 0, 0, 0,\n",
        "                                                                 0, 0, 0, 0, 0,\n",
        "                                                                 0, 0, 0, 0, 0,\n",
        "                                                                 0, 0, 0, 0, 0, \n",
        "                                                                 0, 0, 0, 0])])\n",
        "fig.update_layout(title='Miranda as submission source was ____ of the data', template='plotly_dark', hoverlabel=dict(font_size=45))\n",
        "fig.update_traces(textposition='inside', textinfo='percent+label')\n",
        "fig.show()"
      ],
      "execution_count": null,
      "outputs": []
    },
    {
      "cell_type": "code",
      "metadata": {
        "id": "nnst8fPmXEqq"
      },
      "source": [
        "colors = ['lightslategray',] * 5\n",
        "\n",
        "fig = px.bar(\n",
        "        dfmiranda,\n",
        "        orientation=\"h\",\n",
        "        title=\"Finance\",\n",
        "        x = dfmiranda['finance'].value_counts(),\n",
        "        y = dfmiranda['finance'].value_counts().index,\n",
        "        template='plotly_white'\n",
        "        )\n",
        "fig.update_layout(barmode='stack', yaxis={'categoryorder':'total ascending'})\n",
        "fig.update_traces(marker_color='green', marker_line_color='#111c2d',\n",
        "                  marker_line_width=1.5, opacity=0.6)\n",
        "fig.show()"
      ],
      "execution_count": null,
      "outputs": []
    },
    {
      "cell_type": "code",
      "metadata": {
        "id": "i9qwh2MjXUFo"
      },
      "source": [
        "dfmiranda['finance'].value_counts()"
      ],
      "execution_count": null,
      "outputs": []
    },
    {
      "cell_type": "code",
      "metadata": {
        "id": "j6NJ-oVi9gvO"
      },
      "source": [
        "dfmiranda['age'].value_counts()"
      ],
      "execution_count": null,
      "outputs": []
    },
    {
      "cell_type": "markdown",
      "metadata": {
        "id": "Ph3Svz8q6Pbp"
      },
      "source": [
        "#### Miranda, deficit electric & internet, and enrolled out of school (Student view)"
      ]
    },
    {
      "cell_type": "code",
      "metadata": {
        "id": "moPvWE2QzW_A"
      },
      "source": [
        "filter_a = dfmiranda['deficit_internet'] > 0\n",
        "filter_b = dfmiranda['deficit_electricity'] > 0\n",
        "dfmirinel = dfmiranda[(filter_a & filter_b)]\n",
        "print(dfmirinel.shape)"
      ],
      "execution_count": null,
      "outputs": []
    },
    {
      "cell_type": "code",
      "metadata": {
        "id": "LoTNNhogYAW4"
      },
      "source": [
        "filter_z = dfmirinel['3_17enrolled_out'] < 1\n",
        "dfmirinel_317 = dfmirinel[filter_z]\n",
        "print(dfmirinel_317.shape)"
      ],
      "execution_count": null,
      "outputs": []
    },
    {
      "cell_type": "code",
      "metadata": {
        "id": "k8AfhPAS32m2"
      },
      "source": [
        "filter_c = dfmirinel['3_17enrolled_out'] > 0\n",
        "dfmirinel317 = dfmirinel[(filter_c)]\n",
        "print(dfmirinel317.shape)"
      ],
      "execution_count": null,
      "outputs": []
    },
    {
      "cell_type": "code",
      "metadata": {
        "id": "hjTqjcgpkBjw"
      },
      "source": [
        "dfmirinel_317['id'].unique()"
      ],
      "execution_count": null,
      "outputs": []
    },
    {
      "cell_type": "code",
      "metadata": {
        "id": "CyMfkLtg7PaB"
      },
      "source": [
        "dfmirinel317['id'].unique()"
      ],
      "execution_count": null,
      "outputs": []
    },
    {
      "cell_type": "markdown",
      "metadata": {
        "id": "4ffTEJtiOKrE"
      },
      "source": [
        "#### Miranda, school/teachers internet availability (School view)"
      ]
    },
    {
      "cell_type": "code",
      "metadata": {
        "id": "0B8J1M_EPygE"
      },
      "source": [
        "values = dfmiranda['st_internet'].value_counts()\n",
        "labels = dfmiranda['st_internet'].value_counts().index\n",
        "\n",
        "fig = px.pie(dfmiranda, names=labels, values=values, color_discrete_sequence=['lightgreen', 'lightpink'])\n",
        "fig.update_layout(title='Does school/teachers have internet connection? 0=No, 1=Yes', template='plotly_dark', hoverlabel=dict(font_size=45))\n",
        "fig.update_traces(textposition='inside', textinfo='percent+label+value')\n",
        "fig.show()"
      ],
      "execution_count": null,
      "outputs": []
    },
    {
      "cell_type": "markdown",
      "metadata": {
        "id": "JIwvf_O9pPK8"
      },
      "source": [
        "## State Zulia"
      ]
    },
    {
      "cell_type": "code",
      "metadata": {
        "id": "NdLZ8Et_pUnY"
      },
      "source": [
        "dfzulia = dfnew[dfnew['state'].isin(['Zulia'])]\n",
        "print(dfzulia.shape)"
      ],
      "execution_count": null,
      "outputs": []
    },
    {
      "cell_type": "code",
      "metadata": {
        "id": "lhG7J7L8pcwI"
      },
      "source": [
        "values = df['state'].value_counts()\n",
        "labels = df['state'].value_counts().index\n",
        "\n",
        "# pull is given as a fraction of the pie radius\n",
        "fig = go.Figure(data=[go.Pie(labels=labels, values=values, pull=[0, 0.3, 0, 0, 0,\n",
        "                                                                 0, 0, 0, 0, 0,\n",
        "                                                                 0, 0, 0, 0, 0,\n",
        "                                                                 0, 0, 0, 0, 0, \n",
        "                                                                 0, 0, 0, 0])])\n",
        "fig.update_layout(title='Zulia as submission source was ____ of the data', template='plotly_dark', hoverlabel=dict(font_size=45))\n",
        "fig.update_traces(textposition='inside', textinfo='percent+label')\n",
        "fig.show()"
      ],
      "execution_count": null,
      "outputs": []
    },
    {
      "cell_type": "code",
      "metadata": {
        "id": "vS7eU_q3YjDg"
      },
      "source": [
        "colors = ['lightslategray',] * 5\n",
        "\n",
        "fig = px.bar(\n",
        "        dfzulia,\n",
        "        orientation=\"h\",\n",
        "        title=\"Finance\",\n",
        "        x = dfzulia['finance'].value_counts(),\n",
        "        y = dfzulia['finance'].value_counts().index,\n",
        "        template='plotly_white'\n",
        "        )\n",
        "fig.update_layout(barmode='stack', yaxis={'categoryorder':'total ascending'})\n",
        "fig.update_traces(marker_color='green', marker_line_color='#111c2d',\n",
        "                  marker_line_width=1.5, opacity=0.6)\n",
        "fig.show()"
      ],
      "execution_count": null,
      "outputs": []
    },
    {
      "cell_type": "code",
      "metadata": {
        "id": "xvxbmL9SYjDr"
      },
      "source": [
        "dfzulia['finance'].value_counts()"
      ],
      "execution_count": null,
      "outputs": []
    },
    {
      "cell_type": "code",
      "metadata": {
        "id": "MJ-Fh9vaIspE"
      },
      "source": [
        "dfzulia['age'].value_counts()"
      ],
      "execution_count": null,
      "outputs": []
    },
    {
      "cell_type": "markdown",
      "metadata": {
        "id": "Pc0BH8Ow9BDF"
      },
      "source": [
        "#### Zulia, deficit electric & internet, and enrolled out of school (Student view)"
      ]
    },
    {
      "cell_type": "code",
      "metadata": {
        "id": "pjJ7x3oG9BDK"
      },
      "source": [
        "filter_a = dfzulia['deficit_internet'] > 0\n",
        "filter_b = dfzulia['deficit_electricity'] > 0\n",
        "dfzulinel = dfzulia[(filter_a & filter_b)]\n",
        "print(dfzulinel.shape)"
      ],
      "execution_count": null,
      "outputs": []
    },
    {
      "cell_type": "code",
      "metadata": {
        "id": "KKILQMkBYqAp"
      },
      "source": [
        "filter_y = dfzulinel['3_17enrolled_out'] < 1\n",
        "dfzulinel_317 = dfzulinel[(filter_y)]\n",
        "print(dfzulinel_317.shape)"
      ],
      "execution_count": null,
      "outputs": []
    },
    {
      "cell_type": "code",
      "metadata": {
        "id": "33i2UbQA9BDN"
      },
      "source": [
        "filter_c = dfzulinel['3_17enrolled_out'] > 0\n",
        "dfzulinel317 = dfzulinel[(filter_c)]\n",
        "print(dfzulinel317.shape)"
      ],
      "execution_count": null,
      "outputs": []
    },
    {
      "cell_type": "code",
      "metadata": {
        "id": "G4OaTp48kP-X"
      },
      "source": [
        "dfzulinel_317['id'].unique()"
      ],
      "execution_count": null,
      "outputs": []
    },
    {
      "cell_type": "code",
      "metadata": {
        "id": "mbddpt_w9BDN"
      },
      "source": [
        "dfzulinel317['id'].unique()"
      ],
      "execution_count": null,
      "outputs": []
    },
    {
      "cell_type": "markdown",
      "metadata": {
        "id": "g6xJuwhsRZyF"
      },
      "source": [
        "#### Zulia, school/teachers internet availability (Teacher view)"
      ]
    },
    {
      "cell_type": "code",
      "metadata": {
        "id": "teOt5XdaRIn9"
      },
      "source": [
        "values = dfzulia['st_internet'].value_counts()\n",
        "labels = dfzulia['st_internet'].value_counts().index\n",
        "\n",
        "fig = px.pie(dfzulia, names=labels, values=values, color_discrete_sequence=['lightgreen', 'lightpink'])\n",
        "fig.update_layout(title='Does school/teachers have internet connection? 0=No, 1=Yes', template='plotly_dark', hoverlabel=dict(font_size=45))\n",
        "fig.update_traces(textposition='inside', textinfo='percent+label+value')\n",
        "fig.show()"
      ],
      "execution_count": null,
      "outputs": []
    },
    {
      "cell_type": "markdown",
      "metadata": {
        "id": "u2pTe5yssYU1"
      },
      "source": [
        "## State Distritio Federal"
      ]
    },
    {
      "cell_type": "code",
      "metadata": {
        "id": "h75X_1Z_sS3T"
      },
      "source": [
        "dfdf = df[df['state'].isin(['Distrito Federal'])]\n",
        "print(dfdf.shape)"
      ],
      "execution_count": null,
      "outputs": []
    },
    {
      "cell_type": "code",
      "metadata": {
        "id": "TYVl_x6nsb8y"
      },
      "source": [
        "values = df['state'].value_counts()\n",
        "labels = df['state'].value_counts().index\n",
        "\n",
        "# pull is given as a fraction of the pie radius\n",
        "fig = go.Figure(data=[go.Pie(labels=labels, values=values, pull=[0, 0, 0.3, 0, 0,\n",
        "                                                                 0, 0, 0, 0, 0,\n",
        "                                                                 0, 0, 0, 0, 0,\n",
        "                                                                 0, 0, 0, 0, 0, \n",
        "                                                                 0, 0, 0, 0])])\n",
        "fig.update_layout(title='Distrito Federal as submission source was ____ of the data', template='plotly_dark', hoverlabel=dict(font_size=45))\n",
        "fig.update_traces(textposition='inside', textinfo='percent+label')\n",
        "fig.show()"
      ],
      "execution_count": null,
      "outputs": []
    },
    {
      "cell_type": "code",
      "metadata": {
        "id": "4diwn5R_ZR5p"
      },
      "source": [
        "colors = ['lightslategray',] * 5\n",
        "\n",
        "fig = px.bar(\n",
        "        dfdf,\n",
        "        orientation=\"h\",\n",
        "        title=\"Finance\",\n",
        "        x = dfdf['finance'].value_counts(),\n",
        "        y = dfdf['finance'].value_counts().index,\n",
        "        template='plotly_white'\n",
        "        )\n",
        "fig.update_layout(barmode='stack', yaxis={'categoryorder':'total ascending'})\n",
        "fig.update_traces(marker_color='green', marker_line_color='#111c2d',\n",
        "                  marker_line_width=1.5, opacity=0.6)\n",
        "fig.show()"
      ],
      "execution_count": null,
      "outputs": []
    },
    {
      "cell_type": "code",
      "metadata": {
        "id": "-kIP3fUDZR50"
      },
      "source": [
        "dfdf['finance'].value_counts()"
      ],
      "execution_count": null,
      "outputs": []
    },
    {
      "cell_type": "code",
      "metadata": {
        "id": "s_cAKtDsI_p_"
      },
      "source": [
        "dfdf['age'].value_counts()"
      ],
      "execution_count": null,
      "outputs": []
    },
    {
      "cell_type": "markdown",
      "metadata": {
        "id": "yjOeDXMJ-kyv"
      },
      "source": [
        "#### Distrito Federal, deficit electric & internet, and enrolled out of school (Student view)"
      ]
    },
    {
      "cell_type": "code",
      "metadata": {
        "id": "AMaE5ToM-kyw"
      },
      "source": [
        "filter_a = dfdf['deficit_internet'] > 0\n",
        "filter_b = dfdf['deficit_electricity'] > 0\n",
        "dfdfinel = dfdf[(filter_a & filter_b)]\n",
        "print(dfdfinel.shape)"
      ],
      "execution_count": null,
      "outputs": []
    },
    {
      "cell_type": "code",
      "metadata": {
        "id": "ZrKDx4G3ZV_p"
      },
      "source": [
        "filter_x = dfdfinel['3_17enrolled_out'] < 1\n",
        "dfdfinel_317 = dfdfinel[(filter_x)]\n",
        "print(dfdfinel_317.shape)"
      ],
      "execution_count": null,
      "outputs": []
    },
    {
      "cell_type": "code",
      "metadata": {
        "id": "K3qVKaw9-ky1"
      },
      "source": [
        "filter_c = dfdfinel['3_17enrolled_out'] > 0\n",
        "dfdfinel317 = dfdfinel[(filter_c)]\n",
        "print(dfdfinel317.shape)"
      ],
      "execution_count": null,
      "outputs": []
    },
    {
      "cell_type": "code",
      "metadata": {
        "id": "wkaSGp8Qj6tR"
      },
      "source": [
        "dfdfinel_317['id'].unique()"
      ],
      "execution_count": null,
      "outputs": []
    },
    {
      "cell_type": "code",
      "metadata": {
        "id": "sVNe3kP8-ky2"
      },
      "source": [
        "dfdfinel317['id'].unique()"
      ],
      "execution_count": null,
      "outputs": []
    },
    {
      "cell_type": "markdown",
      "metadata": {
        "id": "cFYhvdNJRvIq"
      },
      "source": [
        "#### Distrito Federal, school/teachers internet availability (School view)"
      ]
    },
    {
      "cell_type": "code",
      "metadata": {
        "id": "HktwUv9FRPuD"
      },
      "source": [
        "values = dfdf['st_internet'].value_counts()\n",
        "labels = dfdf['st_internet'].value_counts().index\n",
        "\n",
        "fig = px.pie(dfdf, names=labels, values=values, color_discrete_sequence=['lightgreen', 'lightpink'])\n",
        "fig.update_layout(title='Does school/teachers have internet connection? 0=No, 1=Yes', template='plotly_dark', hoverlabel=dict(font_size=45))\n",
        "fig.update_traces(textposition='inside', textinfo='percent+label+value')\n",
        "fig.show()"
      ],
      "execution_count": null,
      "outputs": []
    },
    {
      "cell_type": "markdown",
      "metadata": {
        "id": "ZbGa05c6R4xz"
      },
      "source": [
        "## State Táchira"
      ]
    },
    {
      "cell_type": "code",
      "metadata": {
        "id": "aMedsPwNR4x0"
      },
      "source": [
        "dfta = df[df['state'].isin(['Táchira'])]\n",
        "print(dfta.shape)"
      ],
      "execution_count": null,
      "outputs": []
    },
    {
      "cell_type": "code",
      "metadata": {
        "id": "wyHKrPeTR4x0"
      },
      "source": [
        "values = df['state'].value_counts()\n",
        "labels = df['state'].value_counts().index\n",
        "\n",
        "# pull is given as a fraction of the pie radius\n",
        "fig = go.Figure(data=[go.Pie(labels=labels, values=values, pull=[0, 0, 0, 0.3, 0,\n",
        "                                                                 0, 0, 0, 0, 0,\n",
        "                                                                 0, 0, 0, 0, 0,\n",
        "                                                                 0, 0, 0, 0, 0, \n",
        "                                                                 0, 0, 0, 0])])\n",
        "fig.update_layout(title='Táchira as submission source was ____ of the data', template='plotly_dark', hoverlabel=dict(font_size=45))\n",
        "fig.update_traces(textposition='inside', textinfo='percent+label')\n",
        "fig.show()"
      ],
      "execution_count": null,
      "outputs": []
    },
    {
      "cell_type": "code",
      "metadata": {
        "id": "PF3HmcqJZ0ho"
      },
      "source": [
        "colors = ['lightslategray',] * 5\n",
        "\n",
        "fig = px.bar(\n",
        "        dfta,\n",
        "        orientation=\"h\",\n",
        "        title=\"Finance\",\n",
        "        x = dfta['finance'].value_counts(),\n",
        "        y = dfta['finance'].value_counts().index,\n",
        "        template='plotly_white'\n",
        "        )\n",
        "fig.update_layout(barmode='stack', yaxis={'categoryorder':'total ascending'})\n",
        "fig.update_traces(marker_color='green', marker_line_color='#111c2d',\n",
        "                  marker_line_width=1.5, opacity=0.6)\n",
        "fig.show()"
      ],
      "execution_count": null,
      "outputs": []
    },
    {
      "cell_type": "code",
      "metadata": {
        "id": "gXatxR-4Z0hp"
      },
      "source": [
        "dfta['finance'].value_counts()"
      ],
      "execution_count": null,
      "outputs": []
    },
    {
      "cell_type": "code",
      "metadata": {
        "id": "GQPrR7iZJKLS"
      },
      "source": [
        "dfta['age'].value_counts()"
      ],
      "execution_count": null,
      "outputs": []
    },
    {
      "cell_type": "markdown",
      "metadata": {
        "id": "4e3rlrrmR4x1"
      },
      "source": [
        "#### Táchira, deficit electric & internet, and enrolled out of school (Student view)"
      ]
    },
    {
      "cell_type": "code",
      "metadata": {
        "id": "HDfW_Ya6R4x1"
      },
      "source": [
        "filter_a = dfta['deficit_internet'] > 0\n",
        "filter_b = dfta['deficit_electricity'] > 0\n",
        "dftainel = dfta[(filter_a & filter_b)]\n",
        "print(dftainel.shape)"
      ],
      "execution_count": null,
      "outputs": []
    },
    {
      "cell_type": "code",
      "metadata": {
        "id": "jacf9nZhZ6T2"
      },
      "source": [
        "filter_w = dftainel['3_17enrolled_out'] < 1\n",
        "dftainel_317 = dftainel[(filter_w)]\n",
        "print(dftainel_317.shape)"
      ],
      "execution_count": null,
      "outputs": []
    },
    {
      "cell_type": "code",
      "metadata": {
        "id": "mp5BlXwyR4x3"
      },
      "source": [
        "filter_c = dftainel['3_17enrolled_out'] > 0\n",
        "dftainel317 = dftainel[(filter_c)]\n",
        "print(dftainel317.shape)"
      ],
      "execution_count": null,
      "outputs": []
    },
    {
      "cell_type": "code",
      "metadata": {
        "id": "OWbAneW_lHXR"
      },
      "source": [
        "dftainel_317['id'].unique()"
      ],
      "execution_count": null,
      "outputs": []
    },
    {
      "cell_type": "code",
      "metadata": {
        "id": "-vICvIgxR4x4"
      },
      "source": [
        "dftainel317['id'].unique()"
      ],
      "execution_count": null,
      "outputs": []
    },
    {
      "cell_type": "markdown",
      "metadata": {
        "id": "h-uXEjr1R4x4"
      },
      "source": [
        "#### Táchira, school/teachers internet availability (School view)"
      ]
    },
    {
      "cell_type": "code",
      "metadata": {
        "id": "E4AXxC9uR4x5"
      },
      "source": [
        "values = dfta['st_internet'].value_counts()\n",
        "labels = dfta['st_internet'].value_counts().index\n",
        "\n",
        "fig = px.pie(dfta, names=labels, values=values, color_discrete_sequence=['lightgreen', 'lightpink'])\n",
        "fig.update_layout(title='Does school/teachers have internet connection? 0=No, 1=Yes', template='plotly_dark', hoverlabel=dict(font_size=45))\n",
        "fig.update_traces(textposition='inside', textinfo='percent+label+value')\n",
        "fig.show()"
      ],
      "execution_count": null,
      "outputs": []
    },
    {
      "cell_type": "markdown",
      "metadata": {
        "id": "KEd0Hq4mSlV_"
      },
      "source": [
        "## State Lara"
      ]
    },
    {
      "cell_type": "code",
      "metadata": {
        "id": "OJ1hAxhESrAz"
      },
      "source": [
        "dfla = df[df['state'].isin(['Lara'])]\n",
        "print(dfla.shape)"
      ],
      "execution_count": null,
      "outputs": []
    },
    {
      "cell_type": "code",
      "metadata": {
        "id": "Um7U3TH5SrA0"
      },
      "source": [
        "values = df['state'].value_counts()\n",
        "labels = df['state'].value_counts().index\n",
        "\n",
        "# pull is given as a fraction of the pie radius\n",
        "fig = go.Figure(data=[go.Pie(labels=labels, values=values, pull=[0, 0, 0, 0, 0.3,\n",
        "                                                                 0, 0, 0, 0, 0,\n",
        "                                                                 0, 0, 0, 0, 0,\n",
        "                                                                 0, 0, 0, 0, 0, \n",
        "                                                                 0, 0, 0, 0])])\n",
        "fig.update_layout(title='Lara as submission source was ____ of the data', template='plotly_dark', hoverlabel=dict(font_size=45))\n",
        "fig.update_traces(textposition='inside', textinfo='percent+label')\n",
        "fig.show()"
      ],
      "execution_count": null,
      "outputs": []
    },
    {
      "cell_type": "code",
      "metadata": {
        "id": "1twCqSakaWnI"
      },
      "source": [
        "colors = ['lightslategray',] * 5\n",
        "\n",
        "fig = px.bar(\n",
        "        dfla,\n",
        "        orientation=\"h\",\n",
        "        title=\"Finance\",\n",
        "        x = dfla['finance'].value_counts(),\n",
        "        y = dfla['finance'].value_counts().index,\n",
        "        template='plotly_white'\n",
        "        )\n",
        "fig.update_layout(barmode='stack', yaxis={'categoryorder':'total ascending'})\n",
        "fig.update_traces(marker_color='green', marker_line_color='#111c2d',\n",
        "                  marker_line_width=1.5, opacity=0.6)\n",
        "fig.show()"
      ],
      "execution_count": null,
      "outputs": []
    },
    {
      "cell_type": "code",
      "metadata": {
        "id": "CHJErA3IaWnR"
      },
      "source": [
        "dfla['finance'].value_counts()"
      ],
      "execution_count": null,
      "outputs": []
    },
    {
      "cell_type": "code",
      "metadata": {
        "id": "jS7Vwle4Je80"
      },
      "source": [
        "dfla['age'].value_counts()"
      ],
      "execution_count": null,
      "outputs": []
    },
    {
      "cell_type": "markdown",
      "metadata": {
        "id": "afl8LopFSrA1"
      },
      "source": [
        "#### Lara, deficit electric & internet, and enrolled out of school (Student view)"
      ]
    },
    {
      "cell_type": "code",
      "metadata": {
        "id": "o9mAttscSrA1"
      },
      "source": [
        "filter_a = dfla['deficit_internet'] > 0\n",
        "filter_b = dfla['deficit_electricity'] > 0\n",
        "dflainel = dfla[(filter_a & filter_b)]\n",
        "print(dflainel.shape)"
      ],
      "execution_count": null,
      "outputs": []
    },
    {
      "cell_type": "code",
      "metadata": {
        "id": "QPbeY6twaetJ"
      },
      "source": [
        "filter_v = dflainel['3_17enrolled_out'] < 1\n",
        "dflainel_317 = dflainel[(filter_v)]\n",
        "print(dflainel_317.shape)"
      ],
      "execution_count": null,
      "outputs": []
    },
    {
      "cell_type": "code",
      "metadata": {
        "id": "BeFtWmgISrA2"
      },
      "source": [
        "filter_c = dflainel['3_17enrolled_out'] > 0\n",
        "dflainel317 = dflainel[(filter_c)]\n",
        "print(dflainel317.shape)"
      ],
      "execution_count": null,
      "outputs": []
    },
    {
      "cell_type": "code",
      "metadata": {
        "id": "7IGdcWOCmUMw"
      },
      "source": [
        "dflainel_317['id'].unique()"
      ],
      "execution_count": null,
      "outputs": []
    },
    {
      "cell_type": "code",
      "metadata": {
        "id": "Z4L0VxFcSrA2"
      },
      "source": [
        "dftainel317['id'].unique()"
      ],
      "execution_count": null,
      "outputs": []
    },
    {
      "cell_type": "markdown",
      "metadata": {
        "id": "pBDMI-otSrA2"
      },
      "source": [
        "#### Lara, school/teachers internet availability (School view)"
      ]
    },
    {
      "cell_type": "code",
      "metadata": {
        "id": "ljyfUpZvSrA3"
      },
      "source": [
        "values = dfla['st_internet'].value_counts()\n",
        "labels = dfla['st_internet'].value_counts().index\n",
        "\n",
        "fig = px.pie(dfla, names=labels, values=values, color_discrete_sequence=['lightgreen', 'lightpink'])\n",
        "fig.update_layout(title='Does school/teachers have internet connection? 0=No, 1=Yes', template='plotly_dark', hoverlabel=dict(font_size=45))\n",
        "fig.update_traces(textposition='inside', textinfo='percent+label+value')\n",
        "fig.show()"
      ],
      "execution_count": null,
      "outputs": []
    },
    {
      "cell_type": "markdown",
      "metadata": {
        "id": "G7ql8DleUH4g"
      },
      "source": [
        "## State Anzoátegui"
      ]
    },
    {
      "cell_type": "code",
      "metadata": {
        "id": "u-_iwWe9UQZb"
      },
      "source": [
        "dfan = df[df['state'].isin(['Anzoátegui'])]\n",
        "print(dfan.shape)"
      ],
      "execution_count": null,
      "outputs": []
    },
    {
      "cell_type": "code",
      "metadata": {
        "id": "YFQiXe1XUQZc"
      },
      "source": [
        "values = df['state'].value_counts()\n",
        "labels = df['state'].value_counts().index\n",
        "\n",
        "# pull is given as a fraction of the pie radius\n",
        "fig = go.Figure(data=[go.Pie(labels=labels, values=values, pull=[0, 0, 0, 0, 0,\n",
        "                                                                 0.3, 0, 0, 0, 0,\n",
        "                                                                 0, 0, 0, 0, 0,\n",
        "                                                                 0, 0, 0, 0, 0, \n",
        "                                                                 0, 0, 0, 0])])\n",
        "fig.update_layout(title='Anzoátegui as submission source was ____ of the data', template='plotly_dark', hoverlabel=dict(font_size=45))\n",
        "fig.update_traces(textposition='inside', textinfo='percent+label')\n",
        "fig.show()"
      ],
      "execution_count": null,
      "outputs": []
    },
    {
      "cell_type": "code",
      "metadata": {
        "id": "pbGzfZGLa1gA"
      },
      "source": [
        "colors = ['lightslategray',] * 5\n",
        "\n",
        "fig = px.bar(\n",
        "        dfan,\n",
        "        orientation=\"h\",\n",
        "        title=\"Finance\",\n",
        "        x = dfan['finance'].value_counts(),\n",
        "        y = dfan['finance'].value_counts().index,\n",
        "        template='plotly_white'\n",
        "        )\n",
        "fig.update_layout(barmode='stack', yaxis={'categoryorder':'total ascending'})\n",
        "fig.update_traces(marker_color='green', marker_line_color='#111c2d',\n",
        "                  marker_line_width=1.5, opacity=0.6)\n",
        "fig.show()"
      ],
      "execution_count": null,
      "outputs": []
    },
    {
      "cell_type": "code",
      "metadata": {
        "id": "9CJpJ_LEa1gB"
      },
      "source": [
        "dfan['finance'].value_counts()"
      ],
      "execution_count": null,
      "outputs": []
    },
    {
      "cell_type": "code",
      "metadata": {
        "id": "7cqzJOrwJnhG"
      },
      "source": [
        "dfan['age'].value_counts()"
      ],
      "execution_count": null,
      "outputs": []
    },
    {
      "cell_type": "markdown",
      "metadata": {
        "id": "cDmjAteZUQZd"
      },
      "source": [
        "#### Anzoátegui, deficit electric & internet, and enrolled out of school (Student view)"
      ]
    },
    {
      "cell_type": "code",
      "metadata": {
        "id": "SyKQCz43UQZd"
      },
      "source": [
        "filter_a = dfan['deficit_internet'] > 0\n",
        "filter_b = dfan['deficit_electricity'] > 0\n",
        "dfaninel = dfan[(filter_a & filter_b)]\n",
        "print(dfaninel.shape)"
      ],
      "execution_count": null,
      "outputs": []
    },
    {
      "cell_type": "code",
      "metadata": {
        "id": "jqz4-Xeta6qg"
      },
      "source": [
        "filter_u = dfaninel['3_17enrolled_out'] < 1\n",
        "dfaninel_317 = dfaninel[(filter_u)]\n",
        "print(dfaninel_317.shape)"
      ],
      "execution_count": null,
      "outputs": []
    },
    {
      "cell_type": "code",
      "metadata": {
        "id": "1jFPvtRUUQZe"
      },
      "source": [
        "filter_c = dfaninel['3_17enrolled_out'] > 0\n",
        "dfaninel317 = dfaninel[(filter_c)]\n",
        "print(dfaninel317.shape)"
      ],
      "execution_count": null,
      "outputs": []
    },
    {
      "cell_type": "code",
      "metadata": {
        "id": "DZWpW2hznJPA"
      },
      "source": [
        "dfaninel_317['id'].unique()"
      ],
      "execution_count": null,
      "outputs": []
    },
    {
      "cell_type": "code",
      "metadata": {
        "id": "qq6eyPpBUQZe"
      },
      "source": [
        "dfaninel317['id'].unique()"
      ],
      "execution_count": null,
      "outputs": []
    },
    {
      "cell_type": "markdown",
      "metadata": {
        "id": "0n0xeTHwUQZf"
      },
      "source": [
        "#### Anzoátegui, school/teachers internet availability (School view)"
      ]
    },
    {
      "cell_type": "code",
      "metadata": {
        "id": "-x_0uaXuUQZf"
      },
      "source": [
        "values = dfan['st_internet'].value_counts()\n",
        "labels = dfan['st_internet'].value_counts().index\n",
        "\n",
        "fig = px.pie(dfan, names=labels, values=values, color_discrete_sequence=['lightgreen', 'lightpink'])\n",
        "fig.update_layout(title='Does school/teachers have internet connection? 0=No, 1=Yes', template='plotly_dark', hoverlabel=dict(font_size=45))\n",
        "fig.update_traces(textposition='inside', textinfo='percent+label+value')\n",
        "fig.show()"
      ],
      "execution_count": null,
      "outputs": []
    },
    {
      "cell_type": "markdown",
      "metadata": {
        "id": "btNqnunQV7WK"
      },
      "source": [
        "## State Bolívar"
      ]
    },
    {
      "cell_type": "code",
      "metadata": {
        "id": "uPknvKlHWBO9"
      },
      "source": [
        "dfbo = df[df['state'].isin(['Bolívar'])]\n",
        "print(dfbo.shape)"
      ],
      "execution_count": null,
      "outputs": []
    },
    {
      "cell_type": "code",
      "metadata": {
        "id": "_Ih3Pr6wWBO-"
      },
      "source": [
        "values = df['state'].value_counts()\n",
        "labels = df['state'].value_counts().index\n",
        "\n",
        "# pull is given as a fraction of the pie radius\n",
        "fig = go.Figure(data=[go.Pie(labels=labels, values=values, pull=[0, 0, 0, 0, 0,\n",
        "                                                                 0, 0.3, 0, 0, 0,\n",
        "                                                                 0, 0, 0, 0, 0,\n",
        "                                                                 0, 0, 0, 0, 0, \n",
        "                                                                 0, 0, 0, 0])])\n",
        "fig.update_layout(title='Bolívar as submission source was ____ of the data', template='plotly_dark', hoverlabel=dict(font_size=45))\n",
        "fig.update_traces(textposition='inside', textinfo='percent+label')\n",
        "fig.show()"
      ],
      "execution_count": null,
      "outputs": []
    },
    {
      "cell_type": "code",
      "metadata": {
        "id": "1SQmiM6TbYIH"
      },
      "source": [
        "colors = ['lightslategray',] * 5\n",
        "\n",
        "fig = px.bar(\n",
        "        dfbo,\n",
        "        orientation=\"h\",\n",
        "        title=\"Finance\",\n",
        "        x = dfbo['finance'].value_counts(),\n",
        "        y = dfbo['finance'].value_counts().index,\n",
        "        template='plotly_white'\n",
        "        )\n",
        "fig.update_layout(barmode='stack', yaxis={'categoryorder':'total ascending'})\n",
        "fig.update_traces(marker_color='green', marker_line_color='#111c2d',\n",
        "                  marker_line_width=1.5, opacity=0.6)\n",
        "fig.show()"
      ],
      "execution_count": null,
      "outputs": []
    },
    {
      "cell_type": "code",
      "metadata": {
        "id": "J6l0BGf7bYII"
      },
      "source": [
        "dfbo['finance'].value_counts()"
      ],
      "execution_count": null,
      "outputs": []
    },
    {
      "cell_type": "code",
      "metadata": {
        "id": "-Uw-GDuRJvFO"
      },
      "source": [
        "dfbo['age'].value_counts()"
      ],
      "execution_count": null,
      "outputs": []
    },
    {
      "cell_type": "markdown",
      "metadata": {
        "id": "11Gy9dpXWBO_"
      },
      "source": [
        "#### Bolívar, deficit electric & internet, and enrolled out of school (Student view)"
      ]
    },
    {
      "cell_type": "code",
      "metadata": {
        "id": "P1mBxPBOWBPA"
      },
      "source": [
        "filter_a = dfbo['deficit_internet'] > 0\n",
        "filter_b = dfbo['deficit_electricity'] > 0\n",
        "dfboinel = dfbo[(filter_a & filter_b)]\n",
        "print(dfboinel.shape)"
      ],
      "execution_count": null,
      "outputs": []
    },
    {
      "cell_type": "code",
      "metadata": {
        "id": "-EOlLWNLbiuX"
      },
      "source": [
        "filter_t = dfboinel['3_17enrolled_out'] < 1\n",
        "dfboinel_317 = dfboinel[(filter_t)]\n",
        "print(dfboinel_317.shape)"
      ],
      "execution_count": null,
      "outputs": []
    },
    {
      "cell_type": "code",
      "metadata": {
        "id": "4n6CCZJUWBPA"
      },
      "source": [
        "filter_c = dfboinel['3_17enrolled_out'] > 0\n",
        "dfboinel317 = dfboinel[(filter_c)]\n",
        "print(dfboinel317.shape)"
      ],
      "execution_count": null,
      "outputs": []
    },
    {
      "cell_type": "code",
      "metadata": {
        "id": "36Fl-j85n9X3"
      },
      "source": [
        "dfboinel_317['id'].unique()"
      ],
      "execution_count": null,
      "outputs": []
    },
    {
      "cell_type": "code",
      "metadata": {
        "id": "C4RW3o4hWBPB"
      },
      "source": [
        "dfboinel317['id'].unique()"
      ],
      "execution_count": null,
      "outputs": []
    },
    {
      "cell_type": "markdown",
      "metadata": {
        "id": "nc-rsrVoWBPB"
      },
      "source": [
        "#### Bolívar, school/teachers internet availability (School view)"
      ]
    },
    {
      "cell_type": "code",
      "metadata": {
        "id": "CvEwnz5nWBPC"
      },
      "source": [
        "values = dfbo['st_internet'].value_counts()\n",
        "labels = dfbo['st_internet'].value_counts().index\n",
        "\n",
        "fig = px.pie(dfbo, names=labels, values=values, color_discrete_sequence=['lightgreen', 'lightpink'])\n",
        "fig.update_layout(title='Does school/teachers have internet connection? 0=No, 1=Yes', template='plotly_dark', hoverlabel=dict(font_size=45))\n",
        "fig.update_traces(textposition='inside', textinfo='percent+label+value')\n",
        "fig.show()"
      ],
      "execution_count": null,
      "outputs": []
    },
    {
      "cell_type": "markdown",
      "metadata": {
        "id": "pV8cbOqWXJ3g"
      },
      "source": [
        "## State Aragua"
      ]
    },
    {
      "cell_type": "code",
      "metadata": {
        "id": "6zYDmKGLXPBX"
      },
      "source": [
        "dfar = df[df['state'].isin(['Aragua'])]\n",
        "print(dfar.shape)"
      ],
      "execution_count": null,
      "outputs": []
    },
    {
      "cell_type": "code",
      "metadata": {
        "id": "vMUdfMSGXPBZ"
      },
      "source": [
        "values = df['state'].value_counts()\n",
        "labels = df['state'].value_counts().index\n",
        "\n",
        "# pull is given as a fraction of the pie radius\n",
        "fig = go.Figure(data=[go.Pie(labels=labels, values=values, pull=[0, 0, 0, 0, 0,\n",
        "                                                                 0, 0, 0.3, 0, 0,\n",
        "                                                                 0, 0, 0, 0, 0,\n",
        "                                                                 0, 0, 0, 0, 0, \n",
        "                                                                 0, 0, 0, 0])])\n",
        "fig.update_layout(title='Aragua as submission source was ____ of the data', template='plotly_dark', hoverlabel=dict(font_size=45))\n",
        "fig.update_traces(textposition='inside', textinfo='percent+label')\n",
        "fig.show()"
      ],
      "execution_count": null,
      "outputs": []
    },
    {
      "cell_type": "code",
      "metadata": {
        "id": "_XijTy7db2NR"
      },
      "source": [
        "colors = ['lightslategray',] * 5\n",
        "\n",
        "fig = px.bar(\n",
        "        dfar,\n",
        "        orientation=\"h\",\n",
        "        title=\"Finance\",\n",
        "        x = dfar['finance'].value_counts(),\n",
        "        y = dfar['finance'].value_counts().index,\n",
        "        template='plotly_white'\n",
        "        )\n",
        "fig.update_layout(barmode='stack', yaxis={'categoryorder':'total ascending'})\n",
        "fig.update_traces(marker_color='green', marker_line_color='#111c2d',\n",
        "                  marker_line_width=1.5, opacity=0.6)\n",
        "fig.show()"
      ],
      "execution_count": null,
      "outputs": []
    },
    {
      "cell_type": "code",
      "metadata": {
        "id": "Wg-kFat9b2NS"
      },
      "source": [
        "dfar['finance'].value_counts()"
      ],
      "execution_count": null,
      "outputs": []
    },
    {
      "cell_type": "code",
      "metadata": {
        "id": "omIdraXpJ1IH"
      },
      "source": [
        "dfar['age'].value_counts()"
      ],
      "execution_count": null,
      "outputs": []
    },
    {
      "cell_type": "markdown",
      "metadata": {
        "id": "LEctblkiXPBa"
      },
      "source": [
        "#### Aragua, deficit electric & internet, and enrolled out of school (Student view)"
      ]
    },
    {
      "cell_type": "code",
      "metadata": {
        "id": "nU-d3FnbXPBa"
      },
      "source": [
        "filter_a = dfar['deficit_internet'] > 0\n",
        "filter_b = dfar['deficit_electricity'] > 0\n",
        "dfarinel = dfar[(filter_a & filter_b)]\n",
        "print(dfarinel.shape)"
      ],
      "execution_count": null,
      "outputs": []
    },
    {
      "cell_type": "code",
      "metadata": {
        "id": "4hI4p6Mnb61A"
      },
      "source": [
        "filter_s = dfarinel['3_17enrolled_out'] < 1\n",
        "dfarinel_317 = dfarinel[(filter_s)]\n",
        "print(dfarinel_317.shape)"
      ],
      "execution_count": null,
      "outputs": []
    },
    {
      "cell_type": "code",
      "metadata": {
        "id": "ZOgJ5d37XPBb"
      },
      "source": [
        "filter_c = dfarinel['3_17enrolled_out'] > 0\n",
        "dfarinel317 = dfarinel[(filter_c)]\n",
        "print(dfarinel317.shape)"
      ],
      "execution_count": null,
      "outputs": []
    },
    {
      "cell_type": "code",
      "metadata": {
        "id": "6GTFQ1Mzopxg"
      },
      "source": [
        "dfarinel_317['id'].unique()"
      ],
      "execution_count": null,
      "outputs": []
    },
    {
      "cell_type": "code",
      "metadata": {
        "id": "75z7mQ9FXPBb"
      },
      "source": [
        "dfarinel317['id'].unique()"
      ],
      "execution_count": null,
      "outputs": []
    },
    {
      "cell_type": "markdown",
      "metadata": {
        "id": "pPqOm_RCXPBc"
      },
      "source": [
        "#### Aragua, school/teachers internet availability (School view)"
      ]
    },
    {
      "cell_type": "code",
      "metadata": {
        "id": "834EzPFZXPBc"
      },
      "source": [
        "values = dfar['st_internet'].value_counts()\n",
        "labels = dfar['st_internet'].value_counts().index\n",
        "\n",
        "fig = px.pie(dfar, names=labels, values=values, color_discrete_sequence=['lightgreen', 'lightpink'])\n",
        "fig.update_layout(title='Does school/teachers have internet connection? 0=No, 1=Yes', template='plotly_dark', hoverlabel=dict(font_size=45))\n",
        "fig.update_traces(textposition='inside', textinfo='percent+label+value')\n",
        "fig.show()"
      ],
      "execution_count": null,
      "outputs": []
    },
    {
      "cell_type": "markdown",
      "metadata": {
        "id": "97Ie8GChXpJJ"
      },
      "source": [
        "## State Sucre"
      ]
    },
    {
      "cell_type": "code",
      "metadata": {
        "id": "E2A1vNMdXuDz"
      },
      "source": [
        "dfsu = df[df['state'].isin(['Sucre'])]\n",
        "print(dfsu.shape)"
      ],
      "execution_count": null,
      "outputs": []
    },
    {
      "cell_type": "code",
      "metadata": {
        "id": "wD15KDrMXuDz"
      },
      "source": [
        "values = df['state'].value_counts()\n",
        "labels = df['state'].value_counts().index\n",
        "\n",
        "# pull is given as a fraction of the pie radius\n",
        "fig = go.Figure(data=[go.Pie(labels=labels, values=values, pull=[0, 0, 0, 0, 0,\n",
        "                                                                 0, 0, 0, 0.5, 0,\n",
        "                                                                 0, 0, 0, 0, 0,\n",
        "                                                                 0, 0, 0, 0, 0, \n",
        "                                                                 0, 0, 0, 0])])\n",
        "fig.update_layout(title='Sucre as submission source was ____ of the data', template='plotly_dark', hoverlabel=dict(font_size=45))\n",
        "fig.update_traces(textposition='inside', textinfo='percent+label')\n",
        "fig.show()"
      ],
      "execution_count": null,
      "outputs": []
    },
    {
      "cell_type": "code",
      "metadata": {
        "id": "sei4viH1fliZ"
      },
      "source": [
        "colors = ['lightslategray',] * 5\n",
        "\n",
        "fig = px.bar(\n",
        "        dfsu,\n",
        "        orientation=\"h\",\n",
        "        title=\"Finance\",\n",
        "        x = dfsu['finance'].value_counts(),\n",
        "        y = dfsu['finance'].value_counts().index,\n",
        "        template='plotly_white'\n",
        "        )\n",
        "fig.update_layout(barmode='stack', yaxis={'categoryorder':'total ascending'})\n",
        "fig.update_traces(marker_color='green', marker_line_color='#111c2d',\n",
        "                  marker_line_width=1.5, opacity=0.6)\n",
        "fig.show()"
      ],
      "execution_count": null,
      "outputs": []
    },
    {
      "cell_type": "code",
      "metadata": {
        "id": "9sLN4ihQflia"
      },
      "source": [
        "dfsu['finance'].value_counts()"
      ],
      "execution_count": null,
      "outputs": []
    },
    {
      "cell_type": "code",
      "metadata": {
        "id": "ilkfEqpgJ7cD"
      },
      "source": [
        "dfsu['age'].value_counts()"
      ],
      "execution_count": null,
      "outputs": []
    },
    {
      "cell_type": "markdown",
      "metadata": {
        "id": "gHylF1dGXuD0"
      },
      "source": [
        "#### Sucre, deficit electric & internet, and enrolled out of school (Student view)"
      ]
    },
    {
      "cell_type": "code",
      "metadata": {
        "id": "FSOLHBr6XuD1"
      },
      "source": [
        "filter_a = dfsu['deficit_internet'] > 0\n",
        "filter_b = dfsu['deficit_electricity'] > 0\n",
        "dfsuinel = dfsu[(filter_a & filter_b)]\n",
        "print(dfsuinel.shape)"
      ],
      "execution_count": null,
      "outputs": []
    },
    {
      "cell_type": "code",
      "metadata": {
        "id": "2EvfYDsLfwVn"
      },
      "source": [
        "filter_r = dfsuinel['3_17enrolled_out'] < 1\n",
        "dfsuinel_317 = dfsuinel[(filter_r)]\n",
        "print(dfsuinel_317.shape)"
      ],
      "execution_count": null,
      "outputs": []
    },
    {
      "cell_type": "code",
      "metadata": {
        "id": "WqksPpzyXuD1"
      },
      "source": [
        "filter_c = dfsuinel['3_17enrolled_out'] > 0\n",
        "dfsuinel317 = dfsuinel[(filter_c)]\n",
        "print(dfsuinel317.shape)"
      ],
      "execution_count": null,
      "outputs": []
    },
    {
      "cell_type": "code",
      "metadata": {
        "id": "ke1LYwy_pblQ"
      },
      "source": [
        "dfsuinel_317['id'].unique()"
      ],
      "execution_count": null,
      "outputs": []
    },
    {
      "cell_type": "code",
      "metadata": {
        "id": "v_aBsHJlXuD1"
      },
      "source": [
        "dfsuinel317['id'].unique()"
      ],
      "execution_count": null,
      "outputs": []
    },
    {
      "cell_type": "markdown",
      "metadata": {
        "id": "hyr6BP28XuD2"
      },
      "source": [
        "#### Sucre, school/teachers internet availability (School view)"
      ]
    },
    {
      "cell_type": "code",
      "metadata": {
        "id": "3YNtXf5qXuD2"
      },
      "source": [
        "values = dfsu['st_internet'].value_counts()\n",
        "labels = dfsu['st_internet'].value_counts().index\n",
        "\n",
        "fig = px.pie(dfsu, names=labels, values=values, color_discrete_sequence=['lightpink','lightgreen',])\n",
        "fig.update_layout(title='Does school/teachers have internet connection? 0=No, 1=Yes', template='plotly_dark', hoverlabel=dict(font_size=45))\n",
        "fig.update_traces(textposition='inside', textinfo='percent+label+value')\n",
        "fig.show()"
      ],
      "execution_count": null,
      "outputs": []
    },
    {
      "cell_type": "markdown",
      "metadata": {
        "id": "bi9K1jflYL_m"
      },
      "source": [
        "## State Carabobo"
      ]
    },
    {
      "cell_type": "code",
      "metadata": {
        "id": "TF8sgTRJZ43p"
      },
      "source": [
        "dfca = df[df['state'].isin(['Carabobo'])]\n",
        "print(dfca.shape)"
      ],
      "execution_count": null,
      "outputs": []
    },
    {
      "cell_type": "code",
      "metadata": {
        "id": "MslTGObMZ43q"
      },
      "source": [
        "values = df['state'].value_counts()\n",
        "labels = df['state'].value_counts().index\n",
        "\n",
        "# pull is given as a fraction of the pie radius\n",
        "fig = go.Figure(data=[go.Pie(labels=labels, values=values, pull=[0, 0, 0, 0, 0,\n",
        "                                                                 0, 0, 0, 0, 0.4,\n",
        "                                                                 0, 0, 0, 0, 0,\n",
        "                                                                 0, 0, 0, 0, 0, \n",
        "                                                                 0, 0, 0, 0])])\n",
        "fig.update_layout(title='Carabobo as submission source was ____ of the data', template='plotly_dark', hoverlabel=dict(font_size=45))\n",
        "fig.update_traces(textposition='inside', textinfo='percent+label')\n",
        "fig.show()"
      ],
      "execution_count": null,
      "outputs": []
    },
    {
      "cell_type": "code",
      "metadata": {
        "id": "UeiY3WecgT34"
      },
      "source": [
        "colors = ['lightslategray',] * 5\n",
        "\n",
        "fig = px.bar(\n",
        "        dfca,\n",
        "        orientation=\"h\",\n",
        "        title=\"Finance\",\n",
        "        x = dfca['finance'].value_counts(),\n",
        "        y = dfca['finance'].value_counts().index,\n",
        "        template='plotly_white'\n",
        "        )\n",
        "fig.update_layout(barmode='stack', yaxis={'categoryorder':'total ascending'})\n",
        "fig.update_traces(marker_color='green', marker_line_color='#111c2d',\n",
        "                  marker_line_width=1.5, opacity=0.6)\n",
        "fig.show()"
      ],
      "execution_count": null,
      "outputs": []
    },
    {
      "cell_type": "code",
      "metadata": {
        "id": "9TFoyUTKgT4D"
      },
      "source": [
        "dfca['finance'].value_counts()"
      ],
      "execution_count": null,
      "outputs": []
    },
    {
      "cell_type": "code",
      "metadata": {
        "id": "X59dY-aOKEdo"
      },
      "source": [
        "dfca['age'].value_counts()"
      ],
      "execution_count": null,
      "outputs": []
    },
    {
      "cell_type": "markdown",
      "metadata": {
        "id": "p1uoPsSFZ43r"
      },
      "source": [
        "#### Carabobo, deficit electric & internet, and enrolled out of school (Student view)"
      ]
    },
    {
      "cell_type": "code",
      "metadata": {
        "id": "Uknp5A0RZ43r"
      },
      "source": [
        "filter_a = dfca['deficit_internet'] > 0\n",
        "filter_b = dfca['deficit_electricity'] > 0\n",
        "dfcainel = dfca[(filter_a & filter_b)]\n",
        "print(dfcainel.shape)"
      ],
      "execution_count": null,
      "outputs": []
    },
    {
      "cell_type": "code",
      "metadata": {
        "id": "Z21IlGNGgbdp"
      },
      "source": [
        "filter_q = dfcainel['3_17enrolled_out'] < 1\n",
        "dfcainel_317 = dfcainel[(filter_q)]\n",
        "print(dfcainel_317.shape)"
      ],
      "execution_count": null,
      "outputs": []
    },
    {
      "cell_type": "code",
      "metadata": {
        "id": "rb_5ETSkZ43r"
      },
      "source": [
        "filter_c = dfcainel['3_17enrolled_out'] > 0\n",
        "dfcainel317 = dfcainel[(filter_c)]\n",
        "print(dfcainel317.shape)"
      ],
      "execution_count": null,
      "outputs": []
    },
    {
      "cell_type": "code",
      "metadata": {
        "id": "7wZjAzF1qDIX"
      },
      "source": [
        "dfcainel_317['id'].unique()"
      ],
      "execution_count": null,
      "outputs": []
    },
    {
      "cell_type": "code",
      "metadata": {
        "id": "ncEuuiRZZ43s"
      },
      "source": [
        "dfcainel317['id'].unique()"
      ],
      "execution_count": null,
      "outputs": []
    },
    {
      "cell_type": "markdown",
      "metadata": {
        "id": "Ugj4nn5KZ43s"
      },
      "source": [
        "#### Carabobo, school/teachers internet availability (School view)"
      ]
    },
    {
      "cell_type": "code",
      "metadata": {
        "id": "G5hBhX0NZ43u"
      },
      "source": [
        "values = dfca['st_internet'].value_counts()\n",
        "labels = dfca['st_internet'].value_counts().index\n",
        "\n",
        "fig = px.pie(dfca, names=labels, values=values, color_discrete_sequence=['lightgreen', 'lightpink'])\n",
        "fig.update_layout(title='Does school/teachers have internet connection? 0=No, 1=Yes', template='plotly_dark', hoverlabel=dict(font_size=45))\n",
        "fig.update_traces(textposition='inside', textinfo='percent+label+value')\n",
        "fig.show()"
      ],
      "execution_count": null,
      "outputs": []
    },
    {
      "cell_type": "markdown",
      "metadata": {
        "id": "PTGRZjGoty06"
      },
      "source": [
        "# States comparison"
      ]
    },
    {
      "cell_type": "code",
      "metadata": {
        "id": "VUdu11rQtxkQ"
      },
      "source": [
        "fig = px.bar(df,\n",
        "             x=\"state\",\n",
        "             y=\"deficit_internet\",\n",
        "             title=\"State with deficit internet report at home\"\n",
        "              )\n",
        "fig.update_layout(barmode=\"stack\", xaxis={'categoryorder':'total descending'})\n",
        "fig.show()"
      ],
      "execution_count": null,
      "outputs": []
    },
    {
      "cell_type": "code",
      "metadata": {
        "id": "GfCx6R47Dw64"
      },
      "source": [
        "filter = df['deficit_internet'] > 0\n",
        "dfdefinternet = df[filter]\n",
        "dfdefinternet['state'].value_counts()"
      ],
      "execution_count": null,
      "outputs": []
    },
    {
      "cell_type": "code",
      "metadata": {
        "id": "iZsfAIT9wVGA"
      },
      "source": [
        "fig = px.bar(df,\n",
        "             x=\"state\",\n",
        "             y=\"deficit_electricity\",\n",
        "             title=\"State with deficit electricity report at home\"\n",
        "              )\n",
        "fig.update_layout(barmode=\"stack\", xaxis={'categoryorder':'total descending'})\n",
        "fig.show()"
      ],
      "execution_count": null,
      "outputs": []
    },
    {
      "cell_type": "code",
      "metadata": {
        "id": "Nnt5DNK_DoAh"
      },
      "source": [
        "filter = df['deficit_electricity'] > 0\n",
        "dfdefelectric = df[filter]\n",
        "dfdefelectric['state'].value_counts()"
      ],
      "execution_count": null,
      "outputs": []
    },
    {
      "cell_type": "code",
      "metadata": {
        "id": "9v31uzDrCXut"
      },
      "source": [
        "fig = px.bar(df,\n",
        "             x=\"state\",\n",
        "             y=\"3_17enrolled_out\",\n",
        "             title=\"Children 3-17 years old enrolled and didn't return to school report\"\n",
        "              )\n",
        "fig.update_layout(barmode=\"stack\", xaxis={'categoryorder':'total descending'})\n",
        "fig.show()"
      ],
      "execution_count": null,
      "outputs": []
    },
    {
      "cell_type": "code",
      "metadata": {
        "id": "7wv5PBitCcmr"
      },
      "source": [
        "filter = df['3_17enrolled_out'] > 0\n",
        "df317enrolled = df[filter]\n",
        "df317enrolled['state'].value_counts()"
      ],
      "execution_count": null,
      "outputs": []
    },
    {
      "cell_type": "markdown",
      "metadata": {
        "id": "8TVs77T55tJH"
      },
      "source": [
        "#Hidden states"
      ]
    },
    {
      "cell_type": "markdown",
      "metadata": {
        "id": "7EDV401taY5E"
      },
      "source": [
        "## State Mérida"
      ]
    },
    {
      "cell_type": "code",
      "metadata": {
        "id": "RDy2kmvSalfg"
      },
      "source": [
        "dfme = df[df['state'].isin(['Mérida'])]\n",
        "print(dfme.shape)"
      ],
      "execution_count": null,
      "outputs": []
    },
    {
      "cell_type": "code",
      "metadata": {
        "id": "VGkHGNL8alfh"
      },
      "source": [
        "values = df['state'].value_counts()\n",
        "labels = df['state'].value_counts().index\n",
        "\n",
        "# pull is given as a fraction of the pie radius\n",
        "fig = go.Figure(data=[go.Pie(labels=labels, values=values, pull=[0, 0, 0, 0, 0,\n",
        "                                                                 0, 0, 0, 0, 0,\n",
        "                                                                 0.3, 0, 0, 0, 0,\n",
        "                                                                 0, 0, 0, 0, 0, \n",
        "                                                                 0, 0, 0, 0])])\n",
        "fig.update_layout(title='Mérida as submission source was ____ of the data', template='plotly_dark', hoverlabel=dict(font_size=45))\n",
        "fig.update_traces(textposition='inside', textinfo='percent+label')\n",
        "fig.show()"
      ],
      "execution_count": null,
      "outputs": []
    },
    {
      "cell_type": "code",
      "metadata": {
        "id": "5SHygsajalfi"
      },
      "source": [
        "values = dfme['age'].value_counts()\n",
        "labels = dfme['age'].value_counts().index\n",
        "\n",
        "fig = px.pie(dfme, names=labels, values=values, color_discrete_sequence=['lightgreen', 'lightpink'])\n",
        "fig.update_layout(title='Age Distribution', template='plotly_dark', hoverlabel=dict(font_size=45))\n",
        "fig.update_traces(textposition='inside', textinfo='percent+label+value')\n",
        "fig.show()"
      ],
      "execution_count": null,
      "outputs": []
    },
    {
      "cell_type": "markdown",
      "metadata": {
        "id": "gZ2sx4MGalfi"
      },
      "source": [
        "#### Mérida, deficit electric & internet, and enrolled out of school (Student view)"
      ]
    },
    {
      "cell_type": "code",
      "metadata": {
        "id": "_zPPDoBMalfj"
      },
      "source": [
        "filter_a = dfme['deficit_internet'] > 0\n",
        "filter_b = dfme['deficit_electricity'] > 0\n",
        "dfmeinel = dfme[(filter_a & filter_b)]\n",
        "print(dfmeinel.shape)"
      ],
      "execution_count": null,
      "outputs": []
    },
    {
      "cell_type": "code",
      "metadata": {
        "id": "1q5EyCpgalfj"
      },
      "source": [
        "colors = ['lightslategray',] * 5\n",
        "\n",
        "fig = px.bar(\n",
        "        dfmeinel,\n",
        "        orientation=\"h\",\n",
        "        title=\"Finance\",\n",
        "        x = dfmeinel['finance'].value_counts(),\n",
        "        y = dfmeinel['finance'].value_counts().index,\n",
        "        template='plotly_white'\n",
        "        )\n",
        "fig.update_layout(barmode='stack', yaxis={'categoryorder':'total ascending'})\n",
        "fig.update_traces(marker_color='green', marker_line_color='#111c2d',\n",
        "                  marker_line_width=1.5, opacity=0.6)\n",
        "fig.show()"
      ],
      "execution_count": null,
      "outputs": []
    },
    {
      "cell_type": "code",
      "metadata": {
        "id": "eCP43P8xalfj"
      },
      "source": [
        "filter_c = dfmeinel['3_17enrolled_out'] > 0\n",
        "dfmeinel317 = dfmeinel[(filter_c)]\n",
        "print(dfmeinel317.shape)"
      ],
      "execution_count": null,
      "outputs": []
    },
    {
      "cell_type": "code",
      "metadata": {
        "id": "YyYQM5Inalfk"
      },
      "source": [
        "dfmeinel317['id'].unique()"
      ],
      "execution_count": null,
      "outputs": []
    },
    {
      "cell_type": "markdown",
      "metadata": {
        "id": "uwWmU0HTalfk"
      },
      "source": [
        "#### Mérida, school/teachers internet availability (School view)"
      ]
    },
    {
      "cell_type": "code",
      "metadata": {
        "id": "aXF7yOWvalfl"
      },
      "source": [
        "values = dfme['st_internet'].value_counts()\n",
        "labels = dfme['st_internet'].value_counts().index\n",
        "\n",
        "fig = px.pie(dfme, names=labels, values=values, color_discrete_sequence=['lightgreen', 'lightpink'])\n",
        "fig.update_layout(title='Does school/teachers have internet connection? 0=No, 1=Yes', template='plotly_dark', hoverlabel=dict(font_size=45))\n",
        "fig.update_traces(textposition='inside', textinfo='percent+label+value')\n",
        "fig.show()"
      ],
      "execution_count": null,
      "outputs": []
    },
    {
      "cell_type": "markdown",
      "metadata": {
        "id": "SihCHxzPfPEa"
      },
      "source": [
        "## State Falcón"
      ]
    },
    {
      "cell_type": "code",
      "metadata": {
        "id": "RJQw7zp6fRti"
      },
      "source": [
        "dffa = df[df['state'].isin(['Falcón'])]\n",
        "print(dffa.shape)"
      ],
      "execution_count": null,
      "outputs": []
    },
    {
      "cell_type": "code",
      "metadata": {
        "id": "v765TNJofRtj"
      },
      "source": [
        "values = df['state'].value_counts()\n",
        "labels = df['state'].value_counts().index\n",
        "\n",
        "# pull is given as a fraction of the pie radius\n",
        "fig = go.Figure(data=[go.Pie(labels=labels, values=values, pull=[0, 0, 0, 0, 0,\n",
        "                                                                 0, 0, 0, 0, 0,\n",
        "                                                                 0, 0.3, 0, 0, 0,\n",
        "                                                                 0, 0, 0, 0, 0, \n",
        "                                                                 0, 0, 0, 0])])\n",
        "fig.update_layout(title='Falcón as submission source was ____ of the data', template='plotly_dark', hoverlabel=dict(font_size=45))\n",
        "fig.update_traces(textposition='inside', textinfo='percent+label')\n",
        "fig.show()"
      ],
      "execution_count": null,
      "outputs": []
    },
    {
      "cell_type": "code",
      "metadata": {
        "id": "U0bvOaLsfRtj"
      },
      "source": [
        "values = dffa['age'].value_counts()\n",
        "labels = dffa['age'].value_counts().index\n",
        "\n",
        "fig = px.pie(dffa, names=labels, values=values, color_discrete_sequence=['lightgreen', 'lightpink'])\n",
        "fig.update_layout(title='Age Distribution', template='plotly_dark', hoverlabel=dict(font_size=45))\n",
        "fig.update_traces(textposition='inside', textinfo='percent+label+value')\n",
        "fig.show()"
      ],
      "execution_count": null,
      "outputs": []
    },
    {
      "cell_type": "markdown",
      "metadata": {
        "id": "H3_pgT_xfRtk"
      },
      "source": [
        "#### Falcón, deficit electric & internet, and enrolled out of school (Student view)"
      ]
    },
    {
      "cell_type": "code",
      "metadata": {
        "id": "eaqOcjLhfRtk"
      },
      "source": [
        "filter_a = dffa['deficit_internet'] > 0\n",
        "filter_b = dffa['deficit_electricity'] > 0\n",
        "dffainel = dffa[(filter_a & filter_b)]\n",
        "print(dffainel.shape)"
      ],
      "execution_count": null,
      "outputs": []
    },
    {
      "cell_type": "code",
      "metadata": {
        "id": "Wnf28g-gfRtk"
      },
      "source": [
        "colors = ['lightslategray',] * 5\n",
        "\n",
        "fig = px.bar(\n",
        "        dffainel,\n",
        "        orientation=\"h\",\n",
        "        title=\"Finance\",\n",
        "        x = dffainel['finance'].value_counts(),\n",
        "        y = dffainel['finance'].value_counts().index,\n",
        "        template='plotly_white'\n",
        "        )\n",
        "fig.update_layout(barmode='stack', yaxis={'categoryorder':'total ascending'})\n",
        "fig.update_traces(marker_color='green', marker_line_color='#111c2d',\n",
        "                  marker_line_width=1.5, opacity=0.6)\n",
        "fig.show()"
      ],
      "execution_count": null,
      "outputs": []
    },
    {
      "cell_type": "code",
      "metadata": {
        "id": "KL9F3TfHfRtm"
      },
      "source": [
        "filter_c = dffainel['3_17enrolled_out'] > 0\n",
        "dffainel317 = dffainel[(filter_c)]\n",
        "print(dffainel317.shape)"
      ],
      "execution_count": null,
      "outputs": []
    },
    {
      "cell_type": "code",
      "metadata": {
        "id": "OYehWQwpfRtn"
      },
      "source": [
        "dffainel317['id'].unique()"
      ],
      "execution_count": null,
      "outputs": []
    },
    {
      "cell_type": "markdown",
      "metadata": {
        "id": "R3wKwfjhfRtn"
      },
      "source": [
        "#### Falcón, school/teachers internet availability (School view)"
      ]
    },
    {
      "cell_type": "code",
      "metadata": {
        "id": "6aD4v7B4fRtn"
      },
      "source": [
        "values = dffa['st_internet'].value_counts()\n",
        "labels = dffa['st_internet'].value_counts().index\n",
        "\n",
        "fig = px.pie(dffa, names=labels, values=values, color_discrete_sequence=['lightgreen', 'lightpink'])\n",
        "fig.update_layout(title='Does school/teachers have internet connection? 0=No, 1=Yes', template='plotly_dark', hoverlabel=dict(font_size=45))\n",
        "fig.update_traces(textposition='inside', textinfo='percent+label+value')\n",
        "fig.show()"
      ],
      "execution_count": null,
      "outputs": []
    },
    {
      "cell_type": "markdown",
      "metadata": {
        "id": "IjamRPtagdjk"
      },
      "source": [
        "## State Monagas"
      ]
    },
    {
      "cell_type": "code",
      "metadata": {
        "id": "EzAbCXikghfv"
      },
      "source": [
        "dfmo = df[df['state'].isin(['Monagas'])]\n",
        "print(dfmo.shape)"
      ],
      "execution_count": null,
      "outputs": []
    },
    {
      "cell_type": "code",
      "metadata": {
        "id": "gTrXQREaghfw"
      },
      "source": [
        "values = df['state'].value_counts()\n",
        "labels = df['state'].value_counts().index\n",
        "\n",
        "# pull is given as a fraction of the pie radius\n",
        "fig = go.Figure(data=[go.Pie(labels=labels, values=values, pull=[0, 0, 0, 0, 0,\n",
        "                                                                 0, 0, 0, 0, 0,\n",
        "                                                                 0, 0, 0.3, 0, 0,\n",
        "                                                                 0, 0, 0, 0, 0, \n",
        "                                                                 0, 0, 0, 0])])\n",
        "fig.update_layout(title='Monagas as submission source was ____ of the data', template='plotly_dark', hoverlabel=dict(font_size=45))\n",
        "fig.update_traces(textposition='inside', textinfo='percent+label')\n",
        "fig.show()"
      ],
      "execution_count": null,
      "outputs": []
    },
    {
      "cell_type": "code",
      "metadata": {
        "id": "4WNTZR9wghfw"
      },
      "source": [
        "values = dfmo['age'].value_counts()\n",
        "labels = dfmo['age'].value_counts().index\n",
        "\n",
        "fig = px.pie(dfmo, names=labels, values=values, color_discrete_sequence=['lightgreen', 'lightpink'])\n",
        "fig.update_layout(title='Age Distribution', template='plotly_dark', hoverlabel=dict(font_size=45))\n",
        "fig.update_traces(textposition='inside', textinfo='percent+label+value')\n",
        "fig.show()"
      ],
      "execution_count": null,
      "outputs": []
    },
    {
      "cell_type": "markdown",
      "metadata": {
        "id": "foeuED57ghfx"
      },
      "source": [
        "#### Monagas, deficit electric & internet, and enrolled out of school (Student view)"
      ]
    },
    {
      "cell_type": "code",
      "metadata": {
        "id": "EwdlpE1_ghfx"
      },
      "source": [
        "filter_a = dfmo['deficit_internet'] > 0\n",
        "filter_b = dfmo['deficit_electricity'] > 0\n",
        "dfmoinel = dfmo[(filter_a & filter_b)]\n",
        "print(dfmoinel.shape)"
      ],
      "execution_count": null,
      "outputs": []
    },
    {
      "cell_type": "code",
      "metadata": {
        "id": "sJRl0le0ghfy"
      },
      "source": [
        "colors = ['lightslategray',] * 5\n",
        "\n",
        "fig = px.bar(\n",
        "        dfmoinel,\n",
        "        orientation=\"h\",\n",
        "        title=\"Finance\",\n",
        "        x = dfmoinel['finance'].value_counts(),\n",
        "        y = dfmoinel['finance'].value_counts().index,\n",
        "        template='plotly_white'\n",
        "        )\n",
        "fig.update_layout(barmode='stack', yaxis={'categoryorder':'total ascending'})\n",
        "fig.update_traces(marker_color='green', marker_line_color='#111c2d',\n",
        "                  marker_line_width=1.5, opacity=0.6)\n",
        "fig.show()"
      ],
      "execution_count": null,
      "outputs": []
    },
    {
      "cell_type": "code",
      "metadata": {
        "id": "KZyVqgwHghfy"
      },
      "source": [
        "filter_c = dfmoinel['3_17enrolled_out'] > 0\n",
        "dfmoinel317 = dfmoinel[(filter_c)]\n",
        "print(dfmoinel317.shape)"
      ],
      "execution_count": null,
      "outputs": []
    },
    {
      "cell_type": "code",
      "metadata": {
        "id": "gy1YLkxGghfy"
      },
      "source": [
        "dfmoinel317['id'].unique()"
      ],
      "execution_count": null,
      "outputs": []
    },
    {
      "cell_type": "markdown",
      "metadata": {
        "id": "3CI78ItNghfz"
      },
      "source": [
        "#### Monagas, school/teachers internet availability (School view)"
      ]
    },
    {
      "cell_type": "code",
      "metadata": {
        "id": "ci2yE3-Ughfz"
      },
      "source": [
        "values = dfmo['st_internet'].value_counts()\n",
        "labels = dfmo['st_internet'].value_counts().index\n",
        "\n",
        "fig = px.pie(dfmo, names=labels, values=values, color_discrete_sequence=['lightgreen', 'lightpink'])\n",
        "fig.update_layout(title='Does school/teachers have internet connection? 0=No, 1=Yes', template='plotly_dark', hoverlabel=dict(font_size=45))\n",
        "fig.update_traces(textposition='inside', textinfo='percent+label+value')\n",
        "fig.show()"
      ],
      "execution_count": null,
      "outputs": []
    },
    {
      "cell_type": "markdown",
      "metadata": {
        "id": "Y6Me0pJSk-fq"
      },
      "source": [
        "## State Guárico"
      ]
    },
    {
      "cell_type": "code",
      "metadata": {
        "id": "EP87pxVtlBoY"
      },
      "source": [
        "dfgu = df[df['state'].isin(['Guárico'])]\n",
        "print(dfgu.shape)"
      ],
      "execution_count": null,
      "outputs": []
    },
    {
      "cell_type": "code",
      "metadata": {
        "id": "KolVfoKQlBoa"
      },
      "source": [
        "values = df['state'].value_counts()\n",
        "labels = df['state'].value_counts().index\n",
        "\n",
        "# pull is given as a fraction of the pie radius\n",
        "fig = go.Figure(data=[go.Pie(labels=labels, values=values, pull=[0, 0, 0, 0, 0,\n",
        "                                                                 0, 0, 0, 0, 0,\n",
        "                                                                 0, 0, 0, 0.4, 0,\n",
        "                                                                 0, 0, 0, 0, 0, \n",
        "                                                                 0, 0, 0, 0])])\n",
        "fig.update_layout(title='Guárico as submission source was ____ of the data', template='plotly_dark', hoverlabel=dict(font_size=45))\n",
        "fig.update_traces(textposition='inside', textinfo='percent+label')\n",
        "fig.show()"
      ],
      "execution_count": null,
      "outputs": []
    },
    {
      "cell_type": "code",
      "metadata": {
        "id": "QjeuVrDKlBob"
      },
      "source": [
        "values = dfgu['age'].value_counts()\n",
        "labels = dfgu['age'].value_counts().index\n",
        "\n",
        "fig = px.pie(dfgu, names=labels, values=values, color_discrete_sequence=['lightgreen', 'lightpink'])\n",
        "fig.update_layout(title='Age Distribution', template='plotly_dark', hoverlabel=dict(font_size=45))\n",
        "fig.update_traces(textposition='inside', textinfo='percent+label+value')\n",
        "fig.show()"
      ],
      "execution_count": null,
      "outputs": []
    },
    {
      "cell_type": "markdown",
      "metadata": {
        "id": "I1JkTlAUlBod"
      },
      "source": [
        "#### Guárico, deficit electric & internet, and enrolled out of school (Student view)"
      ]
    },
    {
      "cell_type": "code",
      "metadata": {
        "id": "mqX5m9bFlBod"
      },
      "source": [
        "filter_a = dfgu['deficit_internet'] > 0\n",
        "filter_b = dfgu['deficit_electricity'] > 0\n",
        "dfguinel = dfgu[(filter_a & filter_b)]\n",
        "print(dfguinel.shape)"
      ],
      "execution_count": null,
      "outputs": []
    },
    {
      "cell_type": "code",
      "metadata": {
        "id": "WCcO1QrLlBoe"
      },
      "source": [
        "colors = ['lightslategray',] * 5\n",
        "\n",
        "fig = px.bar(\n",
        "        dfguinel,\n",
        "        orientation=\"h\",\n",
        "        title=\"Finance\",\n",
        "        x = dfguinel['finance'].value_counts(),\n",
        "        y = dfguinel['finance'].value_counts().index,\n",
        "        template='plotly_white'\n",
        "        )\n",
        "fig.update_layout(barmode='stack', yaxis={'categoryorder':'total ascending'})\n",
        "fig.update_traces(marker_color='green', marker_line_color='#111c2d',\n",
        "                  marker_line_width=1.5, opacity=0.6)\n",
        "fig.show()"
      ],
      "execution_count": null,
      "outputs": []
    },
    {
      "cell_type": "code",
      "metadata": {
        "id": "uwaLX2EZlBof"
      },
      "source": [
        "filter_c = dfguinel['3_17enrolled_out'] > 0\n",
        "dfguinel317 = dfguinel[(filter_c)]\n",
        "print(dfguinel317.shape)"
      ],
      "execution_count": null,
      "outputs": []
    },
    {
      "cell_type": "code",
      "metadata": {
        "id": "xVTyP4w_lBof"
      },
      "source": [
        "dfguinel317['id'].unique()"
      ],
      "execution_count": null,
      "outputs": []
    },
    {
      "cell_type": "markdown",
      "metadata": {
        "id": "N41O_h-MlBog"
      },
      "source": [
        "#### Guárico, school/teachers internet availability (School view)"
      ]
    },
    {
      "cell_type": "code",
      "metadata": {
        "id": "vrwdgv0GlBoh"
      },
      "source": [
        "values = dfgu['st_internet'].value_counts()\n",
        "labels = dfgu['st_internet'].value_counts().index\n",
        "\n",
        "fig = px.pie(dfgu, names=labels, values=values, color_discrete_sequence=['lightgreen', 'lightpink'])\n",
        "fig.update_layout(title='Does school/teachers have internet connection? 0=No, 1=Yes', template='plotly_dark', hoverlabel=dict(font_size=45))\n",
        "fig.update_traces(textposition='inside', textinfo='percent+label+value')\n",
        "fig.show()"
      ],
      "execution_count": null,
      "outputs": []
    },
    {
      "cell_type": "markdown",
      "metadata": {
        "id": "gZqHstZBlpMH"
      },
      "source": [
        "## State Portuguesa"
      ]
    },
    {
      "cell_type": "code",
      "metadata": {
        "id": "il5JEQ5U2OT5"
      },
      "source": [
        "dfpo = df[df['state'].isin(['Portuguesa'])]\n",
        "print(dfpo.shape)"
      ],
      "execution_count": null,
      "outputs": []
    },
    {
      "cell_type": "code",
      "metadata": {
        "id": "9oNbe_S72OUE"
      },
      "source": [
        "values = df['state'].value_counts()\n",
        "labels = df['state'].value_counts().index\n",
        "\n",
        "# pull is given as a fraction of the pie radius\n",
        "fig = go.Figure(data=[go.Pie(labels=labels, values=values, pull=[0, 0, 0, 0, 0,\n",
        "                                                                 0, 0, 0, 0, 0,\n",
        "                                                                 0, 0, 0, 0, 0.3,\n",
        "                                                                 0, 0, 0, 0, 0, \n",
        "                                                                 0, 0, 0, 0])])\n",
        "fig.update_layout(title='Portuguesa as submission source was ____ of the data', template='plotly_dark', hoverlabel=dict(font_size=45))\n",
        "fig.update_traces(textposition='inside', textinfo='percent+label')\n",
        "fig.show()"
      ],
      "execution_count": null,
      "outputs": []
    },
    {
      "cell_type": "code",
      "metadata": {
        "id": "U0Peqwft2OUG"
      },
      "source": [
        "values = dfpo['age'].value_counts()\n",
        "labels = dfpo['age'].value_counts().index\n",
        "\n",
        "fig = px.pie(dfpo, names=labels, values=values, color_discrete_sequence=['lightgreen', 'lightpink'])\n",
        "fig.update_layout(title='Age Distribution', template='plotly_dark', hoverlabel=dict(font_size=45))\n",
        "fig.update_traces(textposition='inside', textinfo='percent+label+value')\n",
        "fig.show()"
      ],
      "execution_count": null,
      "outputs": []
    },
    {
      "cell_type": "markdown",
      "metadata": {
        "id": "74oHF3Vx2OUH"
      },
      "source": [
        "#### Portuguesa, deficit electric & internet, and enrolled out of school (Student view)"
      ]
    },
    {
      "cell_type": "code",
      "metadata": {
        "id": "mRhJrVaC2OUI"
      },
      "source": [
        "filter_a = dfpo['deficit_internet'] > 0\n",
        "filter_b = dfpo['deficit_electricity'] > 0\n",
        "dfpoinel = dfpo[(filter_a & filter_b)]\n",
        "print(dfpoinel.shape)"
      ],
      "execution_count": null,
      "outputs": []
    },
    {
      "cell_type": "code",
      "metadata": {
        "id": "P9gVNEij2OUJ"
      },
      "source": [
        "colors = ['lightslategray',] * 5\n",
        "\n",
        "fig = px.bar(\n",
        "        dfpoinel,\n",
        "        orientation=\"h\",\n",
        "        title=\"Finance\",\n",
        "        x = dfpoinel['finance'].value_counts(),\n",
        "        y = dfpoinel['finance'].value_counts().index,\n",
        "        template='plotly_white'\n",
        "        )\n",
        "fig.update_layout(barmode='stack', yaxis={'categoryorder':'total ascending'})\n",
        "fig.update_traces(marker_color='green', marker_line_color='#111c2d',\n",
        "                  marker_line_width=1.5, opacity=0.6)\n",
        "fig.show()"
      ],
      "execution_count": null,
      "outputs": []
    },
    {
      "cell_type": "code",
      "metadata": {
        "id": "BhIJQhAl2OUK"
      },
      "source": [
        "filter_c = dfpoinel['3_17enrolled_out'] > 0\n",
        "dfpoinel317 = dfpoinel[(filter_c)]\n",
        "print(dfpoinel317.shape)"
      ],
      "execution_count": null,
      "outputs": []
    },
    {
      "cell_type": "code",
      "metadata": {
        "id": "H3tcQ3Vm2OUK"
      },
      "source": [
        "dfpoinel317['id'].unique()"
      ],
      "execution_count": null,
      "outputs": []
    },
    {
      "cell_type": "markdown",
      "metadata": {
        "id": "JytVbEFm2OUL"
      },
      "source": [
        "#### Portuguesa, school/teachers internet availability (School view)"
      ]
    },
    {
      "cell_type": "code",
      "metadata": {
        "id": "VfWUmSrR2OUM"
      },
      "source": [
        "values = dfpo['st_internet'].value_counts()\n",
        "labels = dfpo['st_internet'].value_counts().index\n",
        "\n",
        "fig = px.pie(dfpo, names=labels, values=values, color_discrete_sequence=['lightgreen', 'lightpink'])\n",
        "fig.update_layout(title='Does school/teachers have internet connection? 0=No, 1=Yes', template='plotly_dark', hoverlabel=dict(font_size=45))\n",
        "fig.update_traces(textposition='inside', textinfo='percent+label+value')\n",
        "fig.show()"
      ],
      "execution_count": null,
      "outputs": []
    },
    {
      "cell_type": "markdown",
      "metadata": {
        "id": "dIRYo6E73cj_"
      },
      "source": [
        "## State Apure"
      ]
    },
    {
      "cell_type": "code",
      "metadata": {
        "id": "homKQfMp3jbJ"
      },
      "source": [
        "dfap = df[df['state'].isin(['Apure'])]\n",
        "print(dfap.shape)"
      ],
      "execution_count": null,
      "outputs": []
    },
    {
      "cell_type": "code",
      "metadata": {
        "id": "mimyElFW3jbL"
      },
      "source": [
        "values = df['state'].value_counts()\n",
        "labels = df['state'].value_counts().index\n",
        "\n",
        "# pull is given as a fraction of the pie radius\n",
        "fig = go.Figure(data=[go.Pie(labels=labels, values=values, pull=[0, 0, 0, 0, 0,\n",
        "                                                                 0, 0, 0, 0, 0,\n",
        "                                                                 0, 0, 0, 0, 0,\n",
        "                                                                 0.3, 0, 0, 0, 0, \n",
        "                                                                 0, 0, 0, 0])])\n",
        "fig.update_layout(title='Apure as submission source was ____ of the data', template='plotly_dark', hoverlabel=dict(font_size=45))\n",
        "fig.update_traces(textposition='inside', textinfo='percent+label')\n",
        "fig.show()"
      ],
      "execution_count": null,
      "outputs": []
    },
    {
      "cell_type": "code",
      "metadata": {
        "id": "40hN0BvO3jbM"
      },
      "source": [
        "values = dfap['age'].value_counts()\n",
        "labels = dfap['age'].value_counts().index\n",
        "\n",
        "fig = px.pie(dfap, names=labels, values=values, color_discrete_sequence=['lightgreen', 'lightpink'])\n",
        "fig.update_layout(title='Age Distribution', template='plotly_dark', hoverlabel=dict(font_size=45))\n",
        "fig.update_traces(textposition='inside', textinfo='percent+label+value')\n",
        "fig.show()"
      ],
      "execution_count": null,
      "outputs": []
    },
    {
      "cell_type": "markdown",
      "metadata": {
        "id": "tgAkwoqS3jbN"
      },
      "source": [
        "#### Apure, deficit electric & internet, and enrolled out of school (Student view)"
      ]
    },
    {
      "cell_type": "code",
      "metadata": {
        "id": "K8bz0quZ3jbO"
      },
      "source": [
        "filter_a = dfap['deficit_internet'] > 0\n",
        "filter_b = dfap['deficit_electricity'] > 0\n",
        "dfapinel = dfap[(filter_a & filter_b)]\n",
        "print(dfapinel.shape)"
      ],
      "execution_count": null,
      "outputs": []
    },
    {
      "cell_type": "code",
      "metadata": {
        "id": "eOMQ_Wuc3jbO"
      },
      "source": [
        "colors = ['lightslategray',] * 5\n",
        "\n",
        "fig = px.bar(\n",
        "        dfapinel,\n",
        "        orientation=\"h\",\n",
        "        title=\"Finance\",\n",
        "        x = dfapinel['finance'].value_counts(),\n",
        "        y = dfapinel['finance'].value_counts().index,\n",
        "        template='plotly_white'\n",
        "        )\n",
        "fig.update_layout(barmode='stack', yaxis={'categoryorder':'total ascending'})\n",
        "fig.update_traces(marker_color='green', marker_line_color='#111c2d',\n",
        "                  marker_line_width=1.5, opacity=0.6)\n",
        "fig.show()"
      ],
      "execution_count": null,
      "outputs": []
    },
    {
      "cell_type": "code",
      "metadata": {
        "id": "GK0-POYa3jbP"
      },
      "source": [
        "filter_c = dfapinel['3_17enrolled_out'] > 0\n",
        "dfapinel317 = dfapinel[(filter_c)]\n",
        "print(dfapinel317.shape)"
      ],
      "execution_count": null,
      "outputs": []
    },
    {
      "cell_type": "code",
      "metadata": {
        "id": "SF-6RDSV3jbQ"
      },
      "source": [
        "dfapinel317['id'].unique()"
      ],
      "execution_count": null,
      "outputs": []
    },
    {
      "cell_type": "markdown",
      "metadata": {
        "id": "xbr23f-T3jbR"
      },
      "source": [
        "#### Apure, school/teachers internet availability (School view)"
      ]
    },
    {
      "cell_type": "code",
      "metadata": {
        "id": "cIEixCIH3jbR"
      },
      "source": [
        "values = dfap['st_internet'].value_counts()\n",
        "labels = dfap['st_internet'].value_counts().index\n",
        "\n",
        "fig = px.pie(dfap, names=labels, values=values, color_discrete_sequence=['lightgreen', 'lightpink'])\n",
        "fig.update_layout(title='Does school/teachers have internet connection? 0=No, 1=Yes', template='plotly_dark', hoverlabel=dict(font_size=45))\n",
        "fig.update_traces(textposition='inside', textinfo='percent+label+value')\n",
        "fig.show()"
      ],
      "execution_count": null,
      "outputs": []
    },
    {
      "cell_type": "markdown",
      "metadata": {
        "id": "y6YDho5m4sD6"
      },
      "source": [
        "## State Trujillo"
      ]
    },
    {
      "cell_type": "code",
      "metadata": {
        "id": "hxYR02x15NY5"
      },
      "source": [
        "dftr = df[df['state'].isin(['Trujillo'])]\n",
        "print(dftr.shape)"
      ],
      "execution_count": null,
      "outputs": []
    },
    {
      "cell_type": "code",
      "metadata": {
        "id": "0adb-hW-5NY6"
      },
      "source": [
        "values = df['state'].value_counts()\n",
        "labels = df['state'].value_counts().index\n",
        "\n",
        "# pull is given as a fraction of the pie radius\n",
        "fig = go.Figure(data=[go.Pie(labels=labels, values=values, pull=[0, 0, 0, 0, 0,\n",
        "                                                                 0, 0, 0, 0, 0,\n",
        "                                                                 0, 0, 0, 0, 0,\n",
        "                                                                 0, 0.3, 0, 0, 0, \n",
        "                                                                 0, 0, 0, 0])])\n",
        "fig.update_layout(title='Trujillo as submission source was ____ of the data', template='plotly_dark', hoverlabel=dict(font_size=45))\n",
        "fig.update_traces(textposition='inside', textinfo='percent+label')\n",
        "fig.show()"
      ],
      "execution_count": null,
      "outputs": []
    },
    {
      "cell_type": "code",
      "metadata": {
        "id": "XNlZ3PAK5NY6"
      },
      "source": [
        "values = dfap['age'].value_counts()\n",
        "labels = dfap['age'].value_counts().index\n",
        "\n",
        "fig = px.pie(dfap, names=labels, values=values, color_discrete_sequence=['lightgreen', 'lightpink'])\n",
        "fig.update_layout(title='Age Distribution', template='plotly_dark', hoverlabel=dict(font_size=45))\n",
        "fig.update_traces(textposition='inside', textinfo='percent+label+value')\n",
        "fig.show()"
      ],
      "execution_count": null,
      "outputs": []
    },
    {
      "cell_type": "markdown",
      "metadata": {
        "id": "7hOQFPNe5NY7"
      },
      "source": [
        "#### Apure, deficit electric & internet, and enrolled out of school (Student view)"
      ]
    },
    {
      "cell_type": "code",
      "metadata": {
        "id": "gKGEKAAv5NY7"
      },
      "source": [
        "filter_a = dfap['deficit_internet'] > 0\n",
        "filter_b = dfap['deficit_electricity'] > 0\n",
        "dfapinel = dfap[(filter_a & filter_b)]\n",
        "print(dfapinel.shape)"
      ],
      "execution_count": null,
      "outputs": []
    },
    {
      "cell_type": "code",
      "metadata": {
        "id": "_UALVcit5NY8"
      },
      "source": [
        "colors = ['lightslategray',] * 5\n",
        "\n",
        "fig = px.bar(\n",
        "        dfapinel,\n",
        "        orientation=\"h\",\n",
        "        title=\"Finance\",\n",
        "        x = dfapinel['finance'].value_counts(),\n",
        "        y = dfapinel['finance'].value_counts().index,\n",
        "        template='plotly_white'\n",
        "        )\n",
        "fig.update_layout(barmode='stack', yaxis={'categoryorder':'total ascending'})\n",
        "fig.update_traces(marker_color='green', marker_line_color='#111c2d',\n",
        "                  marker_line_width=1.5, opacity=0.6)\n",
        "fig.show()"
      ],
      "execution_count": null,
      "outputs": []
    },
    {
      "cell_type": "code",
      "metadata": {
        "id": "ssGfSt3J5NY9"
      },
      "source": [
        "filter_c = dfapinel['3_17enrolled_out'] > 0\n",
        "dfapinel317 = dfapinel[(filter_c)]\n",
        "print(dfapinel317.shape)"
      ],
      "execution_count": null,
      "outputs": []
    },
    {
      "cell_type": "code",
      "metadata": {
        "id": "XFIO8chB5NY9"
      },
      "source": [
        "dfapinel317['id'].unique()"
      ],
      "execution_count": null,
      "outputs": []
    },
    {
      "cell_type": "markdown",
      "metadata": {
        "id": "YJ71li2w5NY-"
      },
      "source": [
        "#### Apure, school/teachers internet availability (School view)"
      ]
    },
    {
      "cell_type": "code",
      "metadata": {
        "id": "G2HZH8iy5NY_"
      },
      "source": [
        "values = dfap['st_internet'].value_counts()\n",
        "labels = dfap['st_internet'].value_counts().index\n",
        "\n",
        "fig = px.pie(dfap, names=labels, values=values, color_discrete_sequence=['lightgreen', 'lightpink'])\n",
        "fig.update_layout(title='Does school/teachers have internet connection? 0=No, 1=Yes', template='plotly_dark', hoverlabel=dict(font_size=45))\n",
        "fig.update_traces(textposition='inside', textinfo='percent+label+value')\n",
        "fig.show()"
      ],
      "execution_count": null,
      "outputs": []
    },
    {
      "cell_type": "markdown",
      "metadata": {
        "id": "v2rr8Go3w26A"
      },
      "source": [
        "# Coba"
      ]
    },
    {
      "cell_type": "code",
      "metadata": {
        "id": "y9fxx-EEw0rv"
      },
      "source": [
        "## Coba"
      ],
      "execution_count": null,
      "outputs": []
    },
    {
      "cell_type": "code",
      "metadata": {
        "id": "JEox_d1KMlgE"
      },
      "source": [
        "values = df['region'].value_counts()\n",
        "labels = df['region'].value_counts().index\n",
        "\n",
        "fig = px.pie(df, names=labels, values=values)\n",
        "\n",
        "for template in [\"plotly\", \"plotly_white\", \"plotly_dark\", \"ggplot2\", \"seaborn\", \"simple_white\", \"none\"]:\n",
        "  fig.update_layout(template=template, hoverlabel=dict(font_size=20), title=\"Region Distribution: '%s' theme\" % template)\n",
        "  fig.update_traces(textposition='inside', textinfo='percent+label+value')\n",
        "  fig.show()"
      ],
      "execution_count": null,
      "outputs": []
    },
    {
      "cell_type": "code",
      "metadata": {
        "id": "bbo5eAKhRvpY"
      },
      "source": [
        "fig = px.bar(\n",
        "        df,\n",
        "        orientation=\"h\",\n",
        "        title=\"Education\",\n",
        "        x = df['education'].value_counts(),\n",
        "        y = df['education'].value_counts().index,\n",
        "        )\n",
        "\n",
        "for template in [\"plotly\", \"plotly_white\", \"plotly_dark\", \"ggplot2\", \"seaborn\", \"simple_white\", \"none\"]:\n",
        "  fig.update_layout(template=template, hoverlabel=dict(font_size=20), title=\"Education Distribution: '%s' theme\" % template,\n",
        "                    barmode='stack', yaxis={'categoryorder':'total ascending'})\n",
        "\n",
        "  fig.show()"
      ],
      "execution_count": null,
      "outputs": []
    }
  ]
}